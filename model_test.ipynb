{
 "cells": [
  {
   "cell_type": "code",
   "execution_count": 1,
   "id": "2ca0c8d3-d2cc-423a-b1dc-9538a395320c",
   "metadata": {},
   "outputs": [],
   "source": [
    "from scripts.applications.prediction_models.models.syntax_infused_model import *\n",
    "from scripts.applications.prediction_models.models.sequential_model import *"
   ]
  },
  {
   "cell_type": "code",
   "execution_count": 2,
   "id": "806b50b9-1694-4aae-ae1f-b57378c4e34e",
   "metadata": {},
   "outputs": [],
   "source": [
    "import numpy as np\n",
    "import random"
   ]
  },
  {
   "cell_type": "code",
   "execution_count": 3,
   "id": "ab6a40e4-f3a4-4f41-8e26-36c40aea9e58",
   "metadata": {},
   "outputs": [],
   "source": [
    "cnt_channels = 19"
   ]
  },
  {
   "cell_type": "code",
   "execution_count": 4,
   "id": "118ee0e5-0977-41e2-ba9e-588987a4dcfc",
   "metadata": {},
   "outputs": [],
   "source": [
    "combine_model = SimpleConcatCombing()"
   ]
  },
  {
   "cell_type": "code",
   "execution_count": 5,
   "id": "145efca9-5db6-435d-9ca0-74298e38cd7b",
   "metadata": {},
   "outputs": [
    {
     "data": {
      "text/plain": [
       "tensor([[1., 2., 3., 4., 5., 6.]])"
      ]
     },
     "execution_count": 5,
     "metadata": {},
     "output_type": "execute_result"
    }
   ],
   "source": [
    "combine_model.forward(torch.FloatTensor([1,2,3]).reshape((1, 3)), torch.FloatTensor([4,5,6]).reshape((1, 3)))"
   ]
  },
  {
   "cell_type": "code",
   "execution_count": 6,
   "id": "46a5f0fd-0c65-465d-a0f4-ff4e9bc98653",
   "metadata": {},
   "outputs": [
    {
     "data": {
      "text/plain": [
       "array([[6.61093167, 8.93916759, 3.32544012, ..., 2.40559571, 6.42024419,\n",
       "        4.58814777],\n",
       "       [8.47971132, 1.28336328, 5.26855733, ..., 4.12245052, 0.69559637,\n",
       "        4.35878282],\n",
       "       [2.79336951, 2.67877383, 1.86943541, ..., 8.92799928, 6.70696551,\n",
       "        7.29514037],\n",
       "       ...,\n",
       "       [8.36377464, 7.4707776 , 1.63352423, ..., 4.02458066, 0.10104893,\n",
       "        5.66730342],\n",
       "       [8.73089803, 7.15550573, 6.24167123, ..., 2.53117518, 6.00697847,\n",
       "        5.8810845 ],\n",
       "       [2.89067465, 2.25746409, 5.0403024 , ..., 5.27413092, 0.44462482,\n",
       "        4.53336194]])"
      ]
     },
     "execution_count": 6,
     "metadata": {},
     "output_type": "execute_result"
    }
   ],
   "source": [
    "def generate_random_eeg_data(cnt_channels = 19, cnt_time_samples = 1000): # unit: mV\n",
    "    return 0.1 * np.random.random_sample((cnt_channels, cnt_time_samples)) * 90\n",
    "\n",
    "def generate_random_segmented_eeg_data(cnt_channels = 19, cnt_time_samples = 1000): # unit: mV\n",
    "    dummy_eeg_data = generate_dummy_eeg_data(cnt_channels, cnt_time_samples)\n",
    "    split_points = [0]\n",
    "    p = np.random()\n",
    "    for i in range(1, cnt_time_samples):\n",
    "        if np.random() < p:\n",
    "            split_points.append(i)\n",
    "    split_points.append(cnt_time_samples)\n",
    "    return [dummy_eeg_data[split_points[i - 1], split_points[i]] for i in range(1, len(split_points))]\n",
    "\n",
    "def generate_random_corpus(word_count, cnt_article, article_max_length):\n",
    "    return [np.random.randint(0, word_count, size = (np.random.randint(0, article_max_length))) for _ in range(cnt_article)]\n",
    "    \n",
    "    \n",
    "dummy_eeg_data = generate_random_eeg_data(cnt_channels = cnt_channels)\n",
    "dummy_eeg_data"
   ]
  },
  {
   "cell_type": "code",
   "execution_count": 7,
   "id": "c456e684-6736-4106-aff4-af33ba06b1ad",
   "metadata": {},
   "outputs": [],
   "source": [
    "LNN_electrode_value_based_prediction_model = LNNElectrodeValueBasedPredictionModel(ncp_input_size = cnt_channels, hidden_size=100, output_size=1, sequence_length=1)"
   ]
  },
  {
   "cell_type": "code",
   "execution_count": 8,
   "id": "f9aa857f-57ff-48ff-be1a-ffa295f31141",
   "metadata": {},
   "outputs": [
    {
     "data": {
      "text/plain": [
       "tensor([[ 0.8468, -0.4345, -0.1769,  0.8571,  0.9551,  0.2765, -0.4420, -0.8114,\n",
       "          0.0125,  0.2116, -0.6061,  0.9293,  0.5590, -0.5634,  0.5849,  0.5097,\n",
       "         -0.3498,  0.3913, -0.3887, -0.0407,  0.8222, -0.7162,  0.6127,  0.9055,\n",
       "         -0.9843, -0.5363, -0.5307, -0.0566, -0.1090,  0.7507,  0.6353,  0.9156,\n",
       "          0.9794, -0.5122, -0.9736,  0.2356, -0.5210, -0.9712,  0.3747,  0.9701,\n",
       "         -0.9725,  0.9833,  0.9764, -0.9958,  0.3756,  0.9901, -0.8557,  0.9963,\n",
       "         -0.8825, -0.9987, -0.9274, -0.9365,  0.9951,  0.4454,  0.5206,  0.4205,\n",
       "          0.6519,  0.9413,  0.3069, -0.8439, -0.4049, -0.2272,  0.0011, -0.4366,\n",
       "         -0.2144,  0.1758, -0.6006,  0.3736,  0.4142,  0.4450, -0.4707,  0.1703,\n",
       "          0.1888, -0.1997, -0.4669, -0.0093,  0.4519, -0.1484, -0.0800, -0.3569,\n",
       "         -0.3658, -0.3318,  0.2351,  0.1130, -0.3999, -0.1000, -0.2881, -0.5257,\n",
       "         -0.1844, -0.3167, -0.1798, -0.3345,  0.1102, -0.2472, -0.2113, -0.1933,\n",
       "          0.3787,  0.3399,  0.6055,  0.3192]], grad_fn=<CatBackward0>)"
      ]
     },
     "execution_count": 8,
     "metadata": {},
     "output_type": "execute_result"
    }
   ],
   "source": [
    "h = LNN_electrode_value_based_prediction_model.h\n",
    "for t in range(dummy_eeg_data.shape[1]):\n",
    "    input_t = torch.Tensor(dummy_eeg_data[:, t])\n",
    "    out, h = LNN_electrode_value_based_prediction_model.forward(input_t)\n",
    "h"
   ]
  },
  {
   "cell_type": "code",
   "execution_count": 9,
   "id": "02f1ee53-2ef6-4f46-a1cb-921f5eeef487",
   "metadata": {},
   "outputs": [],
   "source": [
    "from scripts.applications.prediction_models.models.neural_cky import *"
   ]
  },
  {
   "cell_type": "code",
   "execution_count": 10,
   "id": "108e1abd-c0be-4899-bbb0-df2f1e420511",
   "metadata": {},
   "outputs": [],
   "source": [
    "from scripts.language_processing.language_builder.neural_builder.models.tn_pcfg import TNPCFG"
   ]
  },
  {
   "cell_type": "code",
   "execution_count": 11,
   "id": "36d94727-72e5-4d07-b01d-711a0423199b",
   "metadata": {},
   "outputs": [],
   "source": [
    "word_count = 10\n",
    "args = {'NT': 20,\n",
    "              'T': 10,\n",
    "              'V': 25,\n",
    "              's_dim': 50,\n",
    "              'r_dim': 75,\n",
    "              'word_emb_size': 200,\n",
    "            'cnt_words': word_count,\n",
    "            'summary_parameters': True,\n",
    "        }"
   ]
  },
  {
   "cell_type": "code",
   "execution_count": 12,
   "id": "b9cf0f6c-840f-474d-91d3-ac63cb239a04",
   "metadata": {},
   "outputs": [
    {
     "name": "stdout",
     "output_type": "stream",
     "text": [
      "build td pcfg\n",
      "device = cpu, NT = 20, T = 10, V = 10, s_dim = 50, r = 75, word_emb_size = 200\n",
      "TNPCFG(\n",
      "  (root_mlp): Sequential(\n",
      "    (0): Linear(in_features=50, out_features=50, bias=True)\n",
      "    (1): ResLayer(\n",
      "      (linear): Sequential(\n",
      "        (0): Linear(in_features=50, out_features=50, bias=True)\n",
      "        (1): ReLU()\n",
      "        (2): Linear(in_features=50, out_features=50, bias=True)\n",
      "        (3): ReLU()\n",
      "      )\n",
      "    )\n",
      "    (2): ResLayer(\n",
      "      (linear): Sequential(\n",
      "        (0): Linear(in_features=50, out_features=50, bias=True)\n",
      "        (1): ReLU()\n",
      "        (2): Linear(in_features=50, out_features=50, bias=True)\n",
      "        (3): ReLU()\n",
      "      )\n",
      "    )\n",
      "    (3): Linear(in_features=50, out_features=20, bias=True)\n",
      "  )\n",
      "  (term_mlp): Sequential(\n",
      "    (0): Linear(in_features=50, out_features=50, bias=True)\n",
      "    (1): ResLayer(\n",
      "      (linear): Sequential(\n",
      "        (0): Linear(in_features=50, out_features=50, bias=True)\n",
      "        (1): ReLU()\n",
      "        (2): Linear(in_features=50, out_features=50, bias=True)\n",
      "        (3): ReLU()\n",
      "      )\n",
      "    )\n",
      "    (2): ResLayer(\n",
      "      (linear): Sequential(\n",
      "        (0): Linear(in_features=50, out_features=50, bias=True)\n",
      "        (1): ReLU()\n",
      "        (2): Linear(in_features=50, out_features=50, bias=True)\n",
      "        (3): ReLU()\n",
      "      )\n",
      "    )\n",
      "    (3): Linear(in_features=50, out_features=10, bias=True)\n",
      "  )\n",
      "  (parent_mlp): Sequential(\n",
      "    (0): Linear(in_features=50, out_features=50, bias=True)\n",
      "    (1): ReLU()\n",
      "    (2): Linear(in_features=50, out_features=75, bias=True)\n",
      "  )\n",
      "  (left_mlp): Sequential(\n",
      "    (0): Linear(in_features=50, out_features=50, bias=True)\n",
      "    (1): ReLU()\n",
      "    (2): Linear(in_features=50, out_features=75, bias=True)\n",
      "  )\n",
      "  (right_mlp): Sequential(\n",
      "    (0): Linear(in_features=50, out_features=50, bias=True)\n",
      "    (1): ReLU()\n",
      "    (2): Linear(in_features=50, out_features=75, bias=True)\n",
      "  )\n",
      ")\n"
     ]
    }
   ],
   "source": [
    "tn_pcfg = TNPCFG(args=args)\n",
    "print(f\"{tn_pcfg}\")"
   ]
  },
  {
   "cell_type": "code",
   "execution_count": 13,
   "id": "0dd7ae5b-7457-4ab3-9b59-5d5805101aa3",
   "metadata": {},
   "outputs": [],
   "source": [
    "# generate grammars\n",
    "corpus = generate_random_corpus(word_count, 1000, 2000)"
   ]
  },
  {
   "cell_type": "code",
   "execution_count": 14,
   "id": "5a689a50-2c30-467f-8aa6-56fad4aaa10d",
   "metadata": {},
   "outputs": [
    {
     "name": "stdout",
     "output_type": "stream",
     "text": [
      "begin forward>>>>>>>>>>>>>\n",
      "x = [[4 7 3 ... 8 0 3]]\n",
      "b, n = 1, 1918\n",
      "torch.Size([1, 1918, 10]) torch.Size([1, 20]) torch.Size([1, 20, 75]) torch.Size([1, 30, 75]) torch.Size([1, 30, 75])\n"
     ]
    }
   ],
   "source": [
    "inference = tn_pcfg.forward(input={'word':(np.array(corpus[0])).reshape((1, len(corpus[0])))})"
   ]
  },
  {
   "cell_type": "code",
   "execution_count": 15,
   "id": "87061700-9a75-4cfa-b1aa-9dec72e0a698",
   "metadata": {},
   "outputs": [
    {
     "name": "stdout",
     "output_type": "stream",
     "text": [
      "dict_keys(['unary', 'root', 'head', 'left', 'right', 'kl'])\n"
     ]
    }
   ],
   "source": [
    "print(inference.keys())"
   ]
  },
  {
   "cell_type": "code",
   "execution_count": null,
   "id": "fb42c7fa-b046-4084-963a-576a982057a1",
   "metadata": {},
   "outputs": [],
   "source": []
  },
  {
   "cell_type": "code",
   "execution_count": 16,
   "id": "42227595-a7e8-4f7f-8954-5273093e58f9",
   "metadata": {},
   "outputs": [
    {
     "data": {
      "text/plain": [
       "(10, 200)"
      ]
     },
     "execution_count": 16,
     "metadata": {},
     "output_type": "execute_result"
    }
   ],
   "source": [
    "word_embeddings = np.random.random((args['cnt_words'], args['word_emb_size']))\n",
    "word_embeddings.shape"
   ]
  },
  {
   "cell_type": "code",
   "execution_count": 17,
   "id": "91894354-856a-491b-ae92-a200b99a358d",
   "metadata": {},
   "outputs": [],
   "source": [
    "args['word_embeddings'] = word_embeddings\n",
    "args['grammar_starts'] = np.random.random((args['NT'])) # |NT|\n",
    "args['grammar_preterminates'] = np.random.random((args['T'], args['cnt_words']))\n",
    "args['grammar_double_nonterminates'] = np.random.random((args['NT'], args['NT'] + args['T'], args['NT'] + args['T']))\n",
    "# {\n",
    "#     'head': np.random.random((args['NT'])),\n",
    "#     'left': np.random.random((args['NT'] + args['T'], args['r_dim'])),\n",
    "#     'right': np.random.random((args['NT'] + args['T'], args['r_dim']))\n",
    "# }\n",
    "args['beam_search_strategy'] = select_tops\n",
    "args['preterminate_feature_generation_model'] = NN_CYK_FeatureCombingModel_Preterminate()\n",
    "args['merge_model'] = NN_CYK_FeatureCombingModel_NonPreterminate()"
   ]
  },
  {
   "cell_type": "code",
   "execution_count": 18,
   "id": "e9fb8518-736d-4152-a8df-609a79fce2b2",
   "metadata": {},
   "outputs": [],
   "source": [
    "nn_cyk_model = NN_CYK_Model(args)"
   ]
  },
  {
   "cell_type": "code",
   "execution_count": 19,
   "id": "b8947fc9-3ed4-4871-823b-3cba82592480",
   "metadata": {},
   "outputs": [
    {
     "name": "stdout",
     "output_type": "stream",
     "text": [
      "append record.\n"
     ]
    },
    {
     "data": {
      "text/plain": [
       "tensor([ 0.4668, -0.0914, -0.0597,  0.0257,  0.5473,  0.5327, -0.6843,  0.1332,\n",
       "         0.0215, -0.1416, -0.2990, -0.3282, -0.4808,  0.2777, -0.0633, -0.3475,\n",
       "         0.4123, -0.2773, -0.4382,  0.2646, -0.3550, -0.2539,  0.1951, -0.0372,\n",
       "        -0.5159, -0.2372,  0.0810, -0.6204,  0.1208, -0.0879,  0.2783, -0.5161,\n",
       "         0.1207,  0.2633, -0.1748,  0.4342,  0.3512,  0.4601, -0.2779, -0.1357,\n",
       "        -0.1476,  0.4483, -0.2155,  0.6270, -0.3612,  0.1184, -0.6946, -0.0033,\n",
       "        -0.3901, -0.3170, -0.4788,  0.1412, -0.0192, -0.0862,  0.5549, -0.6582,\n",
       "        -0.0638, -0.1696, -0.3395, -0.6679,  0.6219,  0.0435,  0.7426,  0.1507,\n",
       "        -0.1523,  0.1902, -0.3370,  0.2564,  0.3449,  0.1156,  0.2003,  0.6187,\n",
       "        -0.1435,  0.2647, -0.5578, -0.3411, -0.1478, -0.1080,  0.3060, -0.0727,\n",
       "        -0.1655,  0.0147,  0.6436, -0.3953,  0.0308, -0.2577, -0.0719, -0.1505,\n",
       "         0.0882,  0.3293, -0.7711,  0.4500,  0.3981,  0.4047,  0.0097,  1.0541,\n",
       "        -0.4591,  0.2143, -0.4267, -0.3649, -0.3321, -0.0735,  0.2075,  0.5530,\n",
       "        -0.0703, -0.4755,  0.3376, -0.1113,  0.9395, -0.7488, -0.2256,  0.1186,\n",
       "        -0.4092, -0.0198, -0.1132,  0.4782, -0.5605,  0.0686, -0.5288, -0.3058,\n",
       "         0.2293, -0.3062, -0.3274, -0.5145, -0.0540,  0.1230, -0.3336,  0.4308],\n",
       "       grad_fn=<ViewBackward0>)"
      ]
     },
     "execution_count": 19,
     "metadata": {},
     "output_type": "execute_result"
    }
   ],
   "source": [
    "nn_cyk_model.forward(5)"
   ]
  },
  {
   "cell_type": "code",
   "execution_count": 21,
   "id": "86776ea3-775f-4617-90e5-c95bf1efcaf7",
   "metadata": {},
   "outputs": [
    {
     "name": "stdout",
     "output_type": "stream",
     "text": [
      "append record.\n",
      "fill record in t=2\n",
      "fill record in t=2\n"
     ]
    },
    {
     "data": {
      "text/plain": [
       "tensor([ 0.1327, -0.0408,  0.1660, -0.0067, -0.0050, -0.0329, -0.2295,  0.0110,\n",
       "        -0.2688, -0.0360,  0.0494, -0.0606, -0.0142, -0.1367, -0.1064,  0.0758,\n",
       "        -0.0833,  0.0016, -0.0714, -0.0790, -0.0156,  0.2178,  0.0140,  0.0349,\n",
       "        -0.1937, -0.1742,  0.0794, -0.0082, -0.0268,  0.0720, -0.0089, -0.0523,\n",
       "        -0.0655,  0.0516, -0.0920,  0.1046,  0.1067, -0.0834, -0.1225,  0.0638,\n",
       "         0.0485, -0.0227,  0.0475,  0.0968, -0.0388, -0.0287,  0.0400,  0.0413,\n",
       "         0.0077,  0.0189,  0.0807,  0.0178,  0.0992, -0.1170, -0.0810,  0.0662,\n",
       "        -0.1093,  0.0267, -0.1925, -0.0331,  0.0899,  0.1006, -0.0826, -0.1027,\n",
       "         0.0941,  0.0573,  0.0883, -0.1002, -0.1942, -0.0208,  0.0398,  0.0158,\n",
       "         0.0838,  0.2320,  0.1234,  0.1301, -0.1315,  0.1585,  0.1541, -0.0392,\n",
       "         0.0300,  0.1898,  0.0880,  0.1720,  0.1906,  0.0647,  0.0554,  0.0655,\n",
       "        -0.2133, -0.1142, -0.0714,  0.1715, -0.1527, -0.0575,  0.0538, -0.1610,\n",
       "         0.1214,  0.1841, -0.2147, -0.0205,  0.0897,  0.0054, -0.0858,  0.0926,\n",
       "        -0.0380,  0.0645, -0.2216, -0.1473, -0.1222, -0.0615, -0.1785,  0.1422,\n",
       "        -0.0277, -0.0220,  0.0317,  0.0338, -0.1636, -0.1723,  0.0644, -0.1381,\n",
       "         0.0568, -0.1683,  0.0359, -0.2172,  0.0316,  0.1833, -0.1445,  0.1037],\n",
       "       grad_fn=<DivBackward0>)"
      ]
     },
     "execution_count": 21,
     "metadata": {},
     "output_type": "execute_result"
    }
   ],
   "source": [
    "nn_cyk_model.forward(5)"
   ]
  },
  {
   "cell_type": "code",
   "execution_count": null,
   "id": "e67188c4-1c68-4028-a8ce-69240afc5abc",
   "metadata": {},
   "outputs": [],
   "source": []
  },
  {
   "cell_type": "code",
   "execution_count": null,
   "id": "e1c428c0-9d93-4611-8b94-005c24369015",
   "metadata": {},
   "outputs": [],
   "source": []
  },
  {
   "cell_type": "code",
   "execution_count": null,
   "id": "b31753ed-d900-4210-a921-c84e5466c21e",
   "metadata": {},
   "outputs": [],
   "source": []
  },
  {
   "cell_type": "code",
   "execution_count": null,
   "id": "1fdc8890-bc59-4a00-b0b6-317d3906167f",
   "metadata": {},
   "outputs": [],
   "source": []
  },
  {
   "cell_type": "code",
   "execution_count": null,
   "id": "8282c741-b6a9-4329-a4e3-d3bc7cd41d92",
   "metadata": {},
   "outputs": [],
   "source": []
  },
  {
   "cell_type": "code",
   "execution_count": null,
   "id": "729fa735-c933-40c3-876a-bf280dadf30c",
   "metadata": {},
   "outputs": [],
   "source": []
  },
  {
   "cell_type": "code",
   "execution_count": null,
   "id": "ee5ce93b-9589-48eb-9597-cc36563d7f5c",
   "metadata": {},
   "outputs": [],
   "source": []
  },
  {
   "cell_type": "code",
   "execution_count": null,
   "id": "05b29c32-b033-4354-80a5-10470552b488",
   "metadata": {},
   "outputs": [],
   "source": []
  },
  {
   "cell_type": "code",
   "execution_count": null,
   "id": "1368e8e8-304f-4bbc-ab56-ca0fedb32397",
   "metadata": {},
   "outputs": [],
   "source": []
  },
  {
   "cell_type": "code",
   "execution_count": null,
   "id": "22ec5dc0-98fa-4dee-b90d-b11b37a21fc2",
   "metadata": {},
   "outputs": [],
   "source": []
  },
  {
   "cell_type": "code",
   "execution_count": null,
   "id": "093df591-8a82-45d2-92f2-593ebdd13135",
   "metadata": {},
   "outputs": [],
   "source": []
  },
  {
   "cell_type": "code",
   "execution_count": null,
   "id": "0afd673d-eb4c-4120-9d36-efe08a9af399",
   "metadata": {},
   "outputs": [],
   "source": []
  },
  {
   "cell_type": "code",
   "execution_count": null,
   "id": "ec9fd736-b6c9-4934-ae7a-07fb54630f9f",
   "metadata": {},
   "outputs": [],
   "source": []
  },
  {
   "cell_type": "code",
   "execution_count": null,
   "id": "b6c968d1-ba5d-4561-b656-18cb0ea756ca",
   "metadata": {},
   "outputs": [],
   "source": []
  },
  {
   "cell_type": "code",
   "execution_count": null,
   "id": "f4402eb9-0654-4663-8cad-bbf420701644",
   "metadata": {},
   "outputs": [],
   "source": []
  },
  {
   "cell_type": "code",
   "execution_count": null,
   "id": "334acd75-777a-415f-866c-19bfae726629",
   "metadata": {},
   "outputs": [],
   "source": []
  },
  {
   "cell_type": "code",
   "execution_count": null,
   "id": "d726bd69-1db7-4f9c-b047-f518f52943ed",
   "metadata": {},
   "outputs": [],
   "source": []
  }
 ],
 "metadata": {
  "kernelspec": {
   "display_name": "Python 3 (ipykernel)",
   "language": "python",
   "name": "python3"
  },
  "language_info": {
   "codemirror_mode": {
    "name": "ipython",
    "version": 3
   },
   "file_extension": ".py",
   "mimetype": "text/x-python",
   "name": "python",
   "nbconvert_exporter": "python",
   "pygments_lexer": "ipython3",
   "version": "3.9.0"
  }
 },
 "nbformat": 4,
 "nbformat_minor": 5
}
