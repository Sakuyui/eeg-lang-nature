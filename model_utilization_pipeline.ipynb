{
 "cells": [
  {
   "cell_type": "markdown",
   "id": "1d330fd5-8432-44de-8a39-30e09dd7edc3",
   "metadata": {},
   "source": [
    "# 1. Import Package"
   ]
  },
  {
   "cell_type": "code",
   "execution_count": 31,
   "id": "377cf689-5f4f-482f-89d1-f2129ee2fe22",
   "metadata": {},
   "outputs": [],
   "source": [
    "from scripts.applications.prediction_models.models.syntax_infused_model import *\n",
    "from scripts.applications.prediction_models.models.sequential_model import *\n",
    "from scripts.applications.prediction_models.models.neural_cky import *\n",
    "from scripts.language_processing.language_builder.neural_builder.models.tn_pcfg import TNPCFG\n",
    "from scripts.language_processing.language_builder.neural_builder.models.utils import rebuild_T_from_head_left_right"
   ]
  },
  {
   "cell_type": "code",
   "execution_count": 32,
   "id": "806b50b9-1694-4aae-ae1f-b57378c4e34e",
   "metadata": {},
   "outputs": [],
   "source": [
    "import numpy as np\n",
    "import random"
   ]
  },
  {
   "cell_type": "markdown",
   "id": "e287d40f-df9b-4127-a2c8-08ca96f6f403",
   "metadata": {},
   "source": [
    "# 2. Variable and function Definitions"
   ]
  },
  {
   "cell_type": "code",
   "execution_count": 33,
   "id": "ab6a40e4-f3a4-4f41-8e26-36c40aea9e58",
   "metadata": {},
   "outputs": [],
   "source": [
    "main_configuration = {\n",
    "'cnt_channels': 19,\n",
    "'cnt_words': 10,\n",
    "'word_emb_size': 200,\n",
    "'syntax_infused_model_args': \n",
    "    {'NT': 20,\n",
    "              'T': 65,\n",
    "              's_dim': 50,\n",
    "              'r_dim': 75,\n",
    "              'word_emb_size': 200,\n",
    "            'cnt_words': 10,\n",
    "            'summary_parameters': True,\n",
    "    }\n",
    "}\n",
    "cnt_channels = main_configuration['cnt_channels']\n",
    "cnt_words = main_configuration['cnt_words']\n",
    "word_emb_size = main_configuration['word_emb_size']"
   ]
  },
  {
   "cell_type": "code",
   "execution_count": 4,
   "id": "da46b8a6-a71d-42b6-a6e3-643bbec6b719",
   "metadata": {},
   "outputs": [],
   "source": [
    "def generate_random_eeg_data(cnt_channels = 19, cnt_time_samples = 1000): # unit: mV\n",
    "    return 0.1 * np.random.random_sample((cnt_channels, cnt_time_samples)) * 90\n",
    "\n",
    "def generate_random_eeg_microstates(cnt_channels = 19, cnt_time_samples = 1000): # unit: mV\n",
    "    return np.random.randint(0, cnt_words, (cnt_time_samples))\n",
    "\n",
    "def generate_random_segmented_eeg_data(cnt_channels = 19, cnt_time_samples = 1000): # unit: mV\n",
    "    dummy_eeg_data = generate_dummy_eeg_data(cnt_channels, cnt_time_samples)\n",
    "    split_points = [0]\n",
    "    p = np.random()\n",
    "    for i in range(1, cnt_time_samples):\n",
    "        if np.random() < p:\n",
    "            split_points.append(i)\n",
    "    split_points.append(cnt_time_samples)\n",
    "    return [dummy_eeg_data[split_points[i - 1], split_points[i]] for i in range(1, len(split_points))]\n",
    "\n",
    "def generate_random_corpus(word_count, cnt_article, article_max_length):\n",
    "    return [np.random.randint(0, word_count, size = (np.random.randint(0, article_max_length))) for _ in range(cnt_article)]\n",
    "    "
   ]
  },
  {
   "cell_type": "markdown",
   "id": "31cafab1-f448-4555-be4a-85ad1cab17ac",
   "metadata": {},
   "source": [
    "# 3. Data Preparation"
   ]
  },
  {
   "cell_type": "code",
   "execution_count": 5,
   "id": "ce9a931e-2a28-447e-80fd-9b66c867a751",
   "metadata": {},
   "outputs": [],
   "source": [
    "random_eeg_data = generate_random_eeg_data(cnt_channels = cnt_channels)"
   ]
  },
  {
   "cell_type": "code",
   "execution_count": 6,
   "id": "6e574cd0-9838-4979-afcc-9226973207c4",
   "metadata": {},
   "outputs": [],
   "source": [
    "random_microstate_sequences = generate_random_eeg_microstates(cnt_channels = cnt_channels)"
   ]
  },
  {
   "cell_type": "markdown",
   "id": "e5d57f32-aa29-4443-92dc-8b3c100977b2",
   "metadata": {},
   "source": [
    "# 4. Word Embedding"
   ]
  },
  {
   "cell_type": "code",
   "execution_count": 7,
   "id": "4aa03d29-017a-41ba-98e4-7220bb781b63",
   "metadata": {},
   "outputs": [],
   "source": [
    "from scripts.applications.prediction_models.models.word_embedding import *"
   ]
  },
  {
   "cell_type": "code",
   "execution_count": 8,
   "id": "26348604-00f8-4e05-9e2d-0eda792234de",
   "metadata": {},
   "outputs": [],
   "source": [
    "embeding_model = WordEmbeddingModel(vocab_size = cnt_words, embedding_dim = word_emb_size, context_size = 2)"
   ]
  },
  {
   "cell_type": "markdown",
   "id": "bf6110a7-9235-448b-bb79-7d3d28967765",
   "metadata": {},
   "source": [
    "# 4.1 Trainning"
   ]
  },
  {
   "cell_type": "code",
   "execution_count": 9,
   "id": "60b96e50-b6ac-4595-b0f4-757a072db083",
   "metadata": {},
   "outputs": [
    {
     "name": "stdout",
     "output_type": "stream",
     "text": [
      "epoch = 0\n",
      "loss = 2316.554201\n",
      "epoch = 1\n",
      "loss = 2265.522856\n",
      "epoch = 2\n",
      "loss = 2238.896778\n",
      "epoch = 3\n",
      "loss = 2220.725047\n",
      "epoch = 4\n",
      "loss = 2207.141982\n",
      "epoch = 5\n",
      "loss = 2195.629607\n",
      "epoch = 6\n",
      "loss = 2185.123014\n",
      "epoch = 7\n",
      "loss = 2175.435936\n",
      "epoch = 8\n",
      "loss = 2166.631076\n",
      "epoch = 9\n",
      "loss = 2157.718176\n"
     ]
    }
   ],
   "source": [
    "sentences = [random_microstate_sequences]\n",
    "embeding_model.train(sentences)"
   ]
  },
  {
   "cell_type": "markdown",
   "id": "1e32a9b3-a0f8-46c4-9073-1954d709f52b",
   "metadata": {},
   "source": [
    "## 4.2 Extract Embeddings"
   ]
  },
  {
   "cell_type": "code",
   "execution_count": 10,
   "id": "fae422bd-1318-497c-9df7-10ce4b6ce14b",
   "metadata": {},
   "outputs": [],
   "source": [
    "word_embeddings = embeding_model.embeddings.weight"
   ]
  },
  {
   "cell_type": "markdown",
   "id": "b93136df-7448-48a0-afc7-4a8e6341df80",
   "metadata": {},
   "source": [
    "# 5. Modal Combination Model Creation"
   ]
  },
  {
   "cell_type": "code",
   "execution_count": 11,
   "id": "118ee0e5-0977-41e2-ba9e-588987a4dcfc",
   "metadata": {},
   "outputs": [],
   "source": [
    "combine_model = SimpleConcatCombing()"
   ]
  },
  {
   "cell_type": "markdown",
   "id": "4b39d0b9-8fc8-4eb2-81dc-4762a54560e1",
   "metadata": {},
   "source": [
    "# 6. Base Prediction Creation"
   ]
  },
  {
   "cell_type": "code",
   "execution_count": 12,
   "id": "c456e684-6736-4106-aff4-af33ba06b1ad",
   "metadata": {},
   "outputs": [],
   "source": [
    "LNN_electrode_value_based_prediction_model = LNNElectrodeValueBasedPredictionModel(ncp_input_size = cnt_channels, hidden_size=100, output_size=1, sequence_length=1)"
   ]
  },
  {
   "cell_type": "markdown",
   "id": "aad733a3-e3b8-4b9f-a1f0-9bdef1916c43",
   "metadata": {},
   "source": [
    "# 7. Prediction pre-epileptic state possibility in each time point by using the Base Prediction Model "
   ]
  },
  {
   "cell_type": "markdown",
   "id": "66970231-87c7-4dee-8536-a238b5c55118",
   "metadata": {},
   "source": [
    "## 7.1 Trainning"
   ]
  },
  {
   "cell_type": "markdown",
   "id": "7097701c-dfc5-47ba-8822-42ab137ab413",
   "metadata": {},
   "source": [
    "## 7.2 Inference"
   ]
  },
  {
   "cell_type": "code",
   "execution_count": 13,
   "id": "f9aa857f-57ff-48ff-be1a-ffa295f31141",
   "metadata": {},
   "outputs": [
    {
     "data": {
      "text/plain": [
       "tensor([[-0.8936, -0.9323, -0.9659,  0.3482, -0.3273, -0.2126,  0.8614,  0.6195,\n",
       "         -0.2569, -0.9274, -0.9663,  0.9594,  0.8754, -0.9216, -0.1042,  0.7159,\n",
       "          0.2378,  0.6213, -0.6234,  0.3669, -0.8865,  0.9663,  0.2433, -0.5480,\n",
       "         -0.5298, -0.7604, -0.6182,  0.4420, -0.7968, -0.6165, -0.6118, -0.2197,\n",
       "          0.5159,  0.1830,  0.9282,  0.9352,  0.9030,  0.1166,  0.7881, -0.6910,\n",
       "         -0.0988, -0.6070, -0.0401, -0.3706, -0.6404, -0.3943,  0.6682, -0.7829,\n",
       "         -0.1743,  0.9386, -0.9970, -0.9615,  0.9774, -0.8386,  0.7160,  0.9941,\n",
       "          0.5405, -0.6762, -0.6185,  0.1220, -0.0267, -0.5907,  0.2524, -0.1405,\n",
       "         -0.5595, -0.2707, -0.2793,  0.0176, -0.3586,  0.0797,  0.1152,  0.2297,\n",
       "         -0.1632, -0.0934, -0.3794, -0.3670, -0.2746,  0.1510,  0.7708,  0.0479,\n",
       "         -0.0873,  0.0363,  0.4477,  0.2921, -0.2954,  0.3075, -0.3463, -0.2922,\n",
       "         -0.1568, -0.3208, -0.1908, -0.6281,  0.6914,  0.1704, -0.3391, -0.4388,\n",
       "         -0.3655, -0.0671, -0.3410, -0.0859]], grad_fn=<CatBackward0>)"
      ]
     },
     "execution_count": 13,
     "metadata": {},
     "output_type": "execute_result"
    }
   ],
   "source": [
    "h = LNN_electrode_value_based_prediction_model.h\n",
    "for t in range(random_eeg_data.shape[1]):\n",
    "    input_t = torch.Tensor(random_eeg_data[:, t])\n",
    "    out, h = LNN_electrode_value_based_prediction_model.forward(input_t)\n",
    "h"
   ]
  },
  {
   "cell_type": "markdown",
   "id": "96646351-e547-4afe-8234-6515b6b3870a",
   "metadata": {},
   "source": [
    "# 8. Syntax-infused Prediction Model "
   ]
  },
  {
   "cell_type": "code",
   "execution_count": 14,
   "id": "36d94727-72e5-4d07-b01d-711a0423199b",
   "metadata": {},
   "outputs": [],
   "source": [
    "args = main_configuration['syntax_infused_model_args']\n",
    "args['word_embeddings'] = word_embeddings"
   ]
  },
  {
   "cell_type": "markdown",
   "id": "97b082e6-03d0-4dc7-9412-47696dcf6823",
   "metadata": {},
   "source": [
    "## 8.1 Build Grammar"
   ]
  },
  {
   "cell_type": "markdown",
   "id": "9486f8f3-f706-447d-b797-4b3c7c703cd7",
   "metadata": {},
   "source": [
    "### 8.1.1 TN-PCFG Model Creation"
   ]
  },
  {
   "cell_type": "code",
   "execution_count": 15,
   "id": "b9cf0f6c-840f-474d-91d3-ac63cb239a04",
   "metadata": {},
   "outputs": [
    {
     "name": "stdout",
     "output_type": "stream",
     "text": [
      "build td pcfg\n",
      "device = cpu, NT = 20, T = 65, V = 10, s_dim = 50, r = 75, word_emb_size = 200\n"
     ]
    }
   ],
   "source": [
    "tn_pcfg = TNPCFG(args=args)\n",
    "# print(f\"{tn_pcfg}\")"
   ]
  },
  {
   "cell_type": "code",
   "execution_count": 16,
   "id": "91bec8f0-2ad8-4546-b12d-212abd0075e1",
   "metadata": {},
   "outputs": [
    {
     "data": {
      "text/plain": [
       "TNPCFG(\n",
       "  (root_mlp): Sequential(\n",
       "    (0): Linear(in_features=50, out_features=50, bias=True)\n",
       "    (1): ResLayer(\n",
       "      (linear): Sequential(\n",
       "        (0): Linear(in_features=50, out_features=50, bias=True)\n",
       "        (1): ReLU()\n",
       "        (2): Linear(in_features=50, out_features=50, bias=True)\n",
       "        (3): ReLU()\n",
       "      )\n",
       "    )\n",
       "    (2): ResLayer(\n",
       "      (linear): Sequential(\n",
       "        (0): Linear(in_features=50, out_features=50, bias=True)\n",
       "        (1): ReLU()\n",
       "        (2): Linear(in_features=50, out_features=50, bias=True)\n",
       "        (3): ReLU()\n",
       "      )\n",
       "    )\n",
       "    (3): Linear(in_features=50, out_features=20, bias=True)\n",
       "  )\n",
       "  (term_mlp): Sequential(\n",
       "    (0): Linear(in_features=50, out_features=50, bias=True)\n",
       "    (1): ResLayer(\n",
       "      (linear): Sequential(\n",
       "        (0): Linear(in_features=50, out_features=50, bias=True)\n",
       "        (1): ReLU()\n",
       "        (2): Linear(in_features=50, out_features=50, bias=True)\n",
       "        (3): ReLU()\n",
       "      )\n",
       "    )\n",
       "    (2): ResLayer(\n",
       "      (linear): Sequential(\n",
       "        (0): Linear(in_features=50, out_features=50, bias=True)\n",
       "        (1): ReLU()\n",
       "        (2): Linear(in_features=50, out_features=50, bias=True)\n",
       "        (3): ReLU()\n",
       "      )\n",
       "    )\n",
       "    (3): Linear(in_features=50, out_features=10, bias=True)\n",
       "  )\n",
       "  (parent_mlp): Sequential(\n",
       "    (0): Linear(in_features=50, out_features=50, bias=True)\n",
       "    (1): ReLU()\n",
       "    (2): Linear(in_features=50, out_features=75, bias=True)\n",
       "  )\n",
       "  (left_mlp): Sequential(\n",
       "    (0): Linear(in_features=50, out_features=50, bias=True)\n",
       "    (1): ReLU()\n",
       "    (2): Linear(in_features=50, out_features=75, bias=True)\n",
       "  )\n",
       "  (right_mlp): Sequential(\n",
       "    (0): Linear(in_features=50, out_features=50, bias=True)\n",
       "    (1): ReLU()\n",
       "    (2): Linear(in_features=50, out_features=75, bias=True)\n",
       "  )\n",
       ")"
      ]
     },
     "execution_count": 16,
     "metadata": {},
     "output_type": "execute_result"
    }
   ],
   "source": [
    "tn_pcfg"
   ]
  },
  {
   "cell_type": "markdown",
   "id": "acfab97c-c71c-49c3-8f0b-1a981533fe9e",
   "metadata": {},
   "source": [
    "### 8.1.2 Corpus Creation"
   ]
  },
  {
   "cell_type": "code",
   "execution_count": 17,
   "id": "df133589-b681-4138-b298-1bf3c8793203",
   "metadata": {},
   "outputs": [],
   "source": [
    "# corpus is a order-two list. Each element is a list that contain a sequence of microstates\n",
    "corpus = generate_random_corpus(cnt_words, 1000, 2000)"
   ]
  },
  {
   "cell_type": "markdown",
   "id": "827030aa-831e-4cb5-9ccf-cdfbcfac1504",
   "metadata": {},
   "source": [
    "### 8.1.4 Trainning"
   ]
  },
  {
   "cell_type": "markdown",
   "id": "55df0af2-f048-42a8-99c7-aa49f253c675",
   "metadata": {},
   "source": [
    "### 8.1.3 Do Inference in TN-PCFG to Extract Grammars"
   ]
  },
  {
   "cell_type": "code",
   "execution_count": 18,
   "id": "156303fc-72ed-4199-8ff6-62f9e87fcef6",
   "metadata": {},
   "outputs": [],
   "source": [
    "sentence_for_inference = corpus[0]"
   ]
  },
  {
   "cell_type": "code",
   "execution_count": 19,
   "id": "5a689a50-2c30-467f-8aa6-56fad4aaa10d",
   "metadata": {},
   "outputs": [
    {
     "name": "stdout",
     "output_type": "stream",
     "text": [
      "begin forward>>>>>>>>>>>>>\n",
      "x = [[5 9 2 6 7 0 8 8 7 1 9 5 4 5 8 5 3 6 7 8 3 4 9 2 2 9 0 2 9 2 2 3 8 2 3 3\n",
      "  0 8 0 2 3 4 5 4 8 3 6 0 2 4 6 7 3 3 9 0 9 3 9 6 3 8 2 7 8 3 5 5 4 2 9 4\n",
      "  1 0 9 8 7 4 6 0 5 5 3 0 4 4 0 2 8 7 7 4 4 4 2 8 2 6 7 2 6 6 0 9 1 6 4 2\n",
      "  7 9 3 8 9 1 0 4 1 8 4 3 3 3 3 9 5 4 1 6 1 2 1 5 2 9 8 7 9 3 2 0 3 5 0 9\n",
      "  0 6 3 6 5 3 4 1 2 6 5 0 0 4 2 9 4 3 7 2 5 2 8 9 9 5 7 9 3 3 7 6 5 2 4 2\n",
      "  9 8 5 6 9 4 1 9 9 2 7 6 2 0 8 4 1 6 7 1 3 0 1 1 6 5 5 5 1 3 1 4 8 5 1 6\n",
      "  1 1 8 0 9 5 7 0 0 6 7 7 6 3 2 6 0 1 6 4 0 0 7 2 1 6 0 0 1 8 4 8 4 5 9 9\n",
      "  6 3 5 5 0 1 0 5 0 8 6 6 5 5 1 7 5 6 1 1 3 5 4 2 4 5 5 4 6 1 0 0 4 6 6 0\n",
      "  4 8 6 0 0 1 3 4 7 4 5 8 6 8 2 0 1 2 3 3 8 9 0 9 4 8 3 8 7 3 1 3 3 6 6 1\n",
      "  1 0 0 9 5 9 5 0 7 0 4 6 9 8 0 9 7 0 7 0 5 5 0 1 8 2 6 6 6 4 8 7 7 6 5 0\n",
      "  3 1 6 2 1 7 3 3 3 0 9 5 4 6 7 3 1 4 9 4 0 4 4 2 3 6 5 8 3 2 6 4 7 2 3 8\n",
      "  6 9 0 0 4 9 5 1 3 4 8 4 0 1 4 9 1 3 5 5 6 7 2 3 4 9 7 3 7 0 7 6 7 9 1 1\n",
      "  3 9 6 5 2 5 6 0 3 5 1 7 9 7 1 1 2 0 4 0 6 8 4 1 4 4 2 5 5 5 8 2 5 7 6 5\n",
      "  1 9 2 9 6 5 5 9 1 2 7 1 0 7 0 6 0 3 3 1 9 2 0 7 9 8 8 5 3 6 0 8 1 8 1 6\n",
      "  5 2 7 8 5 0 7 6 1 3 7 1 5 5 5 5 6 0 9 5 3 6 3 4 2 4 0 4 4 8 2 4 4 7 7 2\n",
      "  0 2 1 1 8 8 1 2 0 2 0 4 3 9 6 0 1 9 7 0 4 4 9 1 0 0 7 8 3 0 3 3 0 9 3 1\n",
      "  4 9 1 2 8 3 4 8 5 1 4 3 6 4 9 5 3 8 2 2 3 9 5 3 0 8 4 6 9 3 0 4 9 9 0 4\n",
      "  7 1 3 6 5 2 4 4 6 0 6 9 2 8 1 2 6 0 3 7 0 3 0 4 0 6 9 3 2 8 2 2 7 1 6 8\n",
      "  8 0 5 1 0 0 3 1 8 2 0 3 1 0 2 8 5 3 2 9 6 3 5 6 4 3 4 0 7 3 3 3 2 0 0 9\n",
      "  3 0 2 6 2 6 9 8 2 6 4 2 1 6 4 0 2 9 7 7 9 0 0 1 2 5 7 6 2 3 6 8 5 2 5 7\n",
      "  8 9 3 7 1 7 4 0 1 8 6 9 1 1 6 0 5 0 0 7 5 5 7 2 6 0 1 1 6 9 8 1 1 5 4 1\n",
      "  3 0 2 2 6 4 0 0 8 9 7 7 2 4 6 6 9 4 9 6 8 3 6 7 3 5 5 3 0 2 9 2 4 1 5 1\n",
      "  1 8 1 3 3 9 2 2 6 0 4 1 1 0 8 4 1 0 2 2 6 0 3 9 7 2 7 3 6 0 9 8 5 6 2 0\n",
      "  8 4 5 3 9 7 3 1 0 9 6 4 0 5 7 5 3 5 0 1 8 5 2 2 0 7 3 1 0 8 9 4 1 6 5 8\n",
      "  2 4 8 5 5 8 8 6 5 9 3 9 1 0 4 5 2 3 7 2 6 5 5 7 4 7 4 0 3 8 0 4 5 0 7]]\n",
      "b, n = 1, 899\n",
      "torch.Size([65, 10])\n",
      "torch.Size([1, 899, 65]) torch.Size([1, 20]) torch.Size([1, 20, 75]) torch.Size([1, 85, 75]) torch.Size([1, 85, 75])\n"
     ]
    }
   ],
   "source": [
    "inference = tn_pcfg.forward(input={'word':(np.array(sentence_for_inference)).reshape((1, len(corpus[0])))})"
   ]
  },
  {
   "cell_type": "code",
   "execution_count": 20,
   "id": "a6958b90-ec88-4cf2-99fc-6647d7b7184b",
   "metadata": {},
   "outputs": [
    {
     "data": {
      "text/plain": [
       "dict_keys(['unary', 'root', 'head', 'left', 'right', 'kl'])"
      ]
     },
     "execution_count": 20,
     "metadata": {},
     "output_type": "execute_result"
    }
   ],
   "source": [
    "inference.keys()"
   ]
  },
  {
   "cell_type": "code",
   "execution_count": 21,
   "id": "d16b810a-e1a5-4666-b7af-fff1d32baef2",
   "metadata": {},
   "outputs": [],
   "source": [
    "# convert the inference result of 'unary' array to a more formal form.\n",
    "# the original unary is a 2-dimension array, in which i-th row is possibility of each terminate symbol directly deduct to the word at time point t.\n",
    "# in the origin ouput, unary[i] = unary[j] if word_sequence[i] = word_sequence[j]\n",
    "# now we put each unique word's feature into a 2-dimension matrix.\n",
    "inference_unary = np.zeros((args['T'], args['cnt_words']))\n",
    "original_unary = inference['unary'].detach().numpy()[0]\n",
    "sequence_length = original_unary.shape[0]\n",
    "for i in range(sequence_length):\n",
    "    inference_unary[:, sentence_for_inference[i]] = original_unary[i]"
   ]
  },
  {
   "cell_type": "code",
   "execution_count": 22,
   "id": "ac730317-e488-42d0-8a98-d2843883888c",
   "metadata": {},
   "outputs": [],
   "source": [
    "def rebuild_T_from_head_left_right(head, left, right, NT, T):\n",
    "    r_dim = head.shape[1]\n",
    "    sum_NT_T = NT + T\n",
    "    T = np.zeros((NT * sum_NT_T * sum_NT_T))\n",
    "    for r in range(r_dim):\n",
    "        T += np.kron(np.kron(head[:, r].detach().numpy(), left[:, r].detach().numpy()), right[:, r].detach().numpy())\n",
    "    return T.reshape((NT, sum_NT_T, sum_NT_T))"
   ]
  },
  {
   "cell_type": "code",
   "execution_count": 23,
   "id": "6e23aa0b-90dc-4143-abad-b4d84882448a",
   "metadata": {},
   "outputs": [],
   "source": [
    "T = rebuild_T_from_head_left_right(inference['head'][0], inference['left'][0], inference['right'][0], args['NT'], args['T'])"
   ]
  },
  {
   "cell_type": "markdown",
   "id": "77f77927-4578-49e2-8861-de0b8ed6edc7",
   "metadata": {},
   "source": [
    "### 8.1.4 Complement grammar in args for NN-CYK model."
   ]
  },
  {
   "cell_type": "code",
   "execution_count": 24,
   "id": "87061700-9a75-4cfa-b1aa-9dec72e0a698",
   "metadata": {},
   "outputs": [],
   "source": [
    "args['grammar_starts'] = inference['root'].detach().numpy()[0]\n",
    "args['grammar_preterminates'] = inference_unary\n",
    "args['grammar_double_nonterminates'] = T"
   ]
  },
  {
   "cell_type": "code",
   "execution_count": 25,
   "id": "91894354-856a-491b-ae92-a200b99a358d",
   "metadata": {},
   "outputs": [],
   "source": [
    "# {\n",
    "#     'head': np.random.random((args['NT'])),\n",
    "#     'left': np.random.random((args['NT'] + args['T'], args['r_dim'])),\n",
    "#     'right': np.random.random((args['NT'] + args['T'], args['r_dim']))\n",
    "# }\n",
    "args['beam_search_strategy'] = select_tops\n",
    "args['preterminate_feature_generation_model'] = NN_CYK_FeatureCombingModel_Preterminate()\n",
    "args['merge_model'] = NN_CYK_FeatureCombingModel_NonPreterminate()"
   ]
  },
  {
   "cell_type": "code",
   "execution_count": 26,
   "id": "e9fb8518-736d-4152-a8df-609a79fce2b2",
   "metadata": {},
   "outputs": [],
   "source": [
    "nn_cyk_model = NN_CYK_Model(args)"
   ]
  },
  {
   "cell_type": "markdown",
   "id": "5e518731-9016-4b3a-aa95-170e088d507b",
   "metadata": {},
   "source": [
    "### 8.1.5 Trainning"
   ]
  },
  {
   "cell_type": "markdown",
   "id": "119a5f64-3809-44b3-a36b-03fe17c3c39d",
   "metadata": {},
   "source": [
    "### 8.1.6 Inference"
   ]
  },
  {
   "cell_type": "code",
   "execution_count": 27,
   "id": "b8947fc9-3ed4-4871-823b-3cba82592480",
   "metadata": {},
   "outputs": [
    {
     "name": "stdout",
     "output_type": "stream",
     "text": [
      "append record.\n"
     ]
    },
    {
     "data": {
      "text/plain": [
       "tensor([-1.7470e-01, -9.9015e-01, -4.5680e-01,  6.3080e-01,  2.2052e-01,\n",
       "        -7.0406e-03, -3.8170e-02, -5.4999e-01,  8.3020e-01,  3.2838e-01,\n",
       "         1.0583e-01,  3.1033e-01,  2.2866e-01,  3.6989e-01, -3.6569e-01,\n",
       "         7.6088e-01,  2.5127e-01, -1.0753e+00, -3.7243e-01, -3.0068e-01,\n",
       "        -3.7434e-01,  4.7664e-01,  7.9388e-02,  3.8834e-01, -3.1606e-01,\n",
       "         3.1148e-01,  4.0827e-02,  9.1925e-02,  5.6864e-01,  9.4673e-01,\n",
       "        -6.2618e-01, -2.4650e-01,  3.7411e-01, -7.9313e-01,  1.7483e-01,\n",
       "        -6.3663e-01, -4.2755e-02, -1.1456e-01,  2.7000e-01, -3.0094e-01,\n",
       "        -1.7338e-01,  3.6630e-01,  2.7636e-01, -6.0237e-01, -7.9905e-02,\n",
       "         6.5028e-02, -6.2205e-01,  4.7507e-01, -3.2025e-01,  1.9574e-01,\n",
       "         5.8363e-01, -5.8914e-01, -2.3234e-01,  1.3944e+00,  1.1660e+00,\n",
       "         9.3653e-02,  2.0989e-01,  8.7459e-02, -1.1467e+00,  1.1349e-01,\n",
       "         5.0325e-01, -4.4695e-01,  5.5975e-01, -3.2556e-01, -2.7265e-01,\n",
       "         1.1233e-01, -9.3233e-01, -1.0421e+00, -6.7296e-01,  5.8055e-01,\n",
       "         5.9376e-01, -4.8656e-03,  4.0089e-01, -3.5995e-01, -2.6996e-01,\n",
       "        -2.8514e-01, -2.1815e-01,  6.0837e-01, -6.1708e-01, -3.9753e-01,\n",
       "        -4.4579e-01,  9.6823e-02, -1.8233e-01,  3.8000e-01,  2.8312e-01,\n",
       "         4.3287e-03,  2.3018e-01,  3.8425e-01, -5.1567e-01, -2.7319e-01,\n",
       "        -6.2991e-02,  3.5193e-01,  4.5866e-01,  2.3838e-01, -1.6073e-01,\n",
       "         7.1358e-01,  1.1151e-01,  3.5182e-02, -8.0278e-01,  1.3229e+00,\n",
       "         7.2875e-01, -2.0124e-01, -6.6114e-02, -3.8998e-01,  2.1115e-01,\n",
       "        -9.1136e-01, -8.2328e-01,  5.4550e-01, -6.8490e-02,  6.6170e-01,\n",
       "         6.7348e-01, -3.8114e-02,  9.6754e-01, -2.1138e-01,  1.0796e+00,\n",
       "         4.2842e-01, -8.5709e-01, -1.0143e+00, -3.3853e-01, -2.1339e-01,\n",
       "        -1.3105e-03,  3.8046e-01,  5.0009e-02, -1.3662e-01,  6.7251e-01,\n",
       "        -5.2400e-02, -4.4267e-01,  8.4401e-02], grad_fn=<ViewBackward0>)"
      ]
     },
     "execution_count": 27,
     "metadata": {},
     "output_type": "execute_result"
    }
   ],
   "source": [
    "nn_cyk_model.forward(5)"
   ]
  },
  {
   "cell_type": "code",
   "execution_count": 28,
   "id": "86776ea3-775f-4617-90e5-c95bf1efcaf7",
   "metadata": {},
   "outputs": [
    {
     "name": "stdout",
     "output_type": "stream",
     "text": [
      "append record.\n",
      "fill record in t=1\n"
     ]
    },
    {
     "data": {
      "text/plain": [
       "tensor([ 0.1272,  0.1353,  0.2377,  0.3309, -0.1806,  0.5590,  0.0525,  0.0633,\n",
       "         0.3696, -0.6724,  0.1980, -0.4173, -0.2284, -0.4956, -0.2927, -0.1055,\n",
       "        -0.1757, -0.0144,  0.2956,  0.1919,  0.3481, -0.0436,  0.2674,  0.1037,\n",
       "         0.4330, -0.2096, -0.1869, -0.0578,  0.0747, -0.0873, -0.0427, -0.3801,\n",
       "         0.0920, -0.3652, -0.0531, -0.0454,  0.2238,  0.5878, -0.5348,  0.3666,\n",
       "         0.1510, -0.0818,  0.0128, -0.1531, -0.3673, -0.4333,  0.2551,  0.3710,\n",
       "         0.0408, -0.4413,  0.5292, -0.3761,  0.1423, -0.6953,  0.2112,  0.4118,\n",
       "         0.1932, -0.0153,  0.1739,  0.1739,  0.2681,  0.2378, -0.3452,  0.3941,\n",
       "         0.3300, -0.0015,  0.1783,  0.0571, -0.0564, -0.0942,  0.3491, -0.2167,\n",
       "         0.1857,  0.4025,  0.1867,  0.1708, -0.2998, -0.1836,  0.3681, -0.3907,\n",
       "        -0.4792,  0.0609,  0.1405,  0.3984, -0.3531,  0.1247, -0.3413,  0.3620,\n",
       "        -0.1266,  0.0126, -0.0412, -0.2693, -0.1740,  0.0517, -0.1877,  0.5150,\n",
       "         0.1997,  0.1115, -0.1218,  0.0522, -0.3540,  0.3487,  0.1796, -0.2827,\n",
       "         0.3495,  0.8252, -0.2106,  0.0872, -0.3431,  0.3808,  0.5868,  0.1166,\n",
       "         0.0597, -0.0895, -0.2432,  0.2859, -0.2100, -0.5554,  0.0880, -0.2406,\n",
       "         0.2077,  0.1253,  0.1550, -0.0365,  0.0219, -0.0405, -0.2501,  0.2850],\n",
       "       grad_fn=<DivBackward0>)"
      ]
     },
     "execution_count": 28,
     "metadata": {},
     "output_type": "execute_result"
    }
   ],
   "source": [
    "nn_cyk_model.forward(5)"
   ]
  },
  {
   "cell_type": "code",
   "execution_count": 29,
   "id": "e67188c4-1c68-4028-a8ce-69240afc5abc",
   "metadata": {
    "scrolled": true
   },
   "outputs": [
    {
     "name": "stdout",
     "output_type": "stream",
     "text": [
      "append record.\n",
      "fill record in t=2\n",
      "fill record in t=2\n"
     ]
    },
    {
     "data": {
      "text/plain": [
       "tensor([ 7.5095e-03, -1.6782e-01, -1.9793e-01,  1.1756e-01,  4.3696e-01,\n",
       "        -1.8677e-01, -1.3287e-01,  1.1223e-01, -3.9837e-01,  1.8934e-01,\n",
       "         9.6943e-02, -7.3208e-03,  9.2107e-02, -5.1977e-02, -9.2098e-02,\n",
       "        -1.2132e-01, -2.0864e-01, -7.4195e-03, -1.7298e-02,  2.2324e-01,\n",
       "        -2.1396e-02,  5.3131e-02, -2.6031e-02, -1.5106e-01, -1.3720e-01,\n",
       "         3.5854e-01, -8.6360e-02,  8.9088e-02, -6.4349e-02,  2.1659e-01,\n",
       "         1.8413e-01,  2.2197e-01, -8.0544e-02,  1.9438e-01, -2.2864e-01,\n",
       "         2.8345e-01,  2.8249e-04,  1.5541e-01, -1.0634e-01,  6.3375e-02,\n",
       "         3.6012e-01,  1.3544e-01, -1.7911e-01, -6.4018e-02,  1.3253e-01,\n",
       "        -3.5549e-01,  3.6925e-03,  2.6757e-02, -6.9488e-01, -3.7756e-02,\n",
       "        -8.2965e-03,  6.9227e-02, -3.1946e-01, -2.8161e-01, -5.3112e-02,\n",
       "        -9.8041e-02,  7.1338e-02,  4.0295e-01, -6.7822e-02,  2.2466e-01,\n",
       "        -1.6567e-01, -2.2848e-01, -1.4007e-01, -3.1535e-03,  6.1339e-02,\n",
       "         1.6902e-01, -3.9981e-01,  8.3154e-02, -8.5038e-02, -4.2915e-02,\n",
       "         1.2746e-01, -1.5493e-01, -1.9667e-02,  1.0770e-02,  1.5427e-01,\n",
       "         3.8138e-02,  3.0762e-02, -1.4323e-01, -1.8295e-01,  4.3140e-02,\n",
       "        -9.9962e-02,  1.0570e-01,  2.2879e-01, -4.7915e-02, -2.6522e-02,\n",
       "        -2.6178e-02,  1.8845e-01,  7.2477e-02,  5.1469e-02, -1.0106e-02,\n",
       "        -1.2330e-01, -7.9794e-02, -1.9344e-01, -1.6909e-01,  1.1016e-01,\n",
       "        -1.1572e-01,  1.2558e-01, -2.1789e-01,  2.2667e-01,  2.8752e-01,\n",
       "        -1.5436e-01, -3.0431e-01, -1.6478e-01, -7.7234e-02, -1.4176e-01,\n",
       "         1.2578e-01,  3.7298e-02, -7.8368e-02, -1.3322e-01, -4.0903e-02,\n",
       "         6.6784e-02, -3.7138e-02, -1.5766e-01,  6.1122e-02,  2.8608e-01,\n",
       "        -1.1747e-01,  2.9311e-02, -1.7868e-01, -1.3819e-01, -7.3894e-02,\n",
       "        -1.5172e-01,  2.3746e-01, -2.4501e-01, -1.1992e-01, -4.0508e-01,\n",
       "        -2.4602e-02,  9.3653e-03, -1.5274e-01], grad_fn=<ViewBackward0>)"
      ]
     },
     "execution_count": 29,
     "metadata": {},
     "output_type": "execute_result"
    }
   ],
   "source": [
    "nn_cyk_model.forward(4)"
   ]
  },
  {
   "cell_type": "code",
   "execution_count": 30,
   "id": "e1c428c0-9d93-4611-8b94-005c24369015",
   "metadata": {},
   "outputs": [
    {
     "name": "stdout",
     "output_type": "stream",
     "text": [
      "append record.\n",
      "fill record in t=3\n",
      "fill record in t=3\n",
      "fill record in t=3\n"
     ]
    },
    {
     "data": {
      "text/plain": [
       "tensor([ 7.5095e-03, -1.6782e-01, -1.9793e-01,  1.1756e-01,  4.3696e-01,\n",
       "        -1.8677e-01, -1.3287e-01,  1.1223e-01, -3.9837e-01,  1.8934e-01,\n",
       "         9.6943e-02, -7.3208e-03,  9.2107e-02, -5.1977e-02, -9.2098e-02,\n",
       "        -1.2132e-01, -2.0864e-01, -7.4195e-03, -1.7298e-02,  2.2324e-01,\n",
       "        -2.1396e-02,  5.3131e-02, -2.6031e-02, -1.5106e-01, -1.3720e-01,\n",
       "         3.5854e-01, -8.6360e-02,  8.9088e-02, -6.4349e-02,  2.1659e-01,\n",
       "         1.8413e-01,  2.2197e-01, -8.0544e-02,  1.9438e-01, -2.2864e-01,\n",
       "         2.8345e-01,  2.8249e-04,  1.5541e-01, -1.0634e-01,  6.3375e-02,\n",
       "         3.6012e-01,  1.3544e-01, -1.7911e-01, -6.4018e-02,  1.3253e-01,\n",
       "        -3.5549e-01,  3.6925e-03,  2.6757e-02, -6.9488e-01, -3.7756e-02,\n",
       "        -8.2965e-03,  6.9227e-02, -3.1946e-01, -2.8161e-01, -5.3112e-02,\n",
       "        -9.8041e-02,  7.1338e-02,  4.0295e-01, -6.7822e-02,  2.2466e-01,\n",
       "        -1.6567e-01, -2.2848e-01, -1.4007e-01, -3.1535e-03,  6.1339e-02,\n",
       "         1.6902e-01, -3.9981e-01,  8.3154e-02, -8.5038e-02, -4.2915e-02,\n",
       "         1.2746e-01, -1.5493e-01, -1.9667e-02,  1.0770e-02,  1.5427e-01,\n",
       "         3.8138e-02,  3.0762e-02, -1.4323e-01, -1.8295e-01,  4.3140e-02,\n",
       "        -9.9962e-02,  1.0570e-01,  2.2879e-01, -4.7915e-02, -2.6522e-02,\n",
       "        -2.6178e-02,  1.8845e-01,  7.2477e-02,  5.1469e-02, -1.0106e-02,\n",
       "        -1.2330e-01, -7.9794e-02, -1.9344e-01, -1.6909e-01,  1.1016e-01,\n",
       "        -1.1572e-01,  1.2558e-01, -2.1789e-01,  2.2667e-01,  2.8752e-01,\n",
       "        -1.5436e-01, -3.0431e-01, -1.6478e-01, -7.7234e-02, -1.4176e-01,\n",
       "         1.2578e-01,  3.7298e-02, -7.8368e-02, -1.3322e-01, -4.0903e-02,\n",
       "         6.6784e-02, -3.7138e-02, -1.5766e-01,  6.1122e-02,  2.8608e-01,\n",
       "        -1.1747e-01,  2.9311e-02, -1.7868e-01, -1.3819e-01, -7.3894e-02,\n",
       "        -1.5172e-01,  2.3746e-01, -2.4501e-01, -1.1992e-01, -4.0508e-01,\n",
       "        -2.4602e-02,  9.3653e-03, -1.5274e-01], grad_fn=<ViewBackward0>)"
      ]
     },
     "execution_count": 30,
     "metadata": {},
     "output_type": "execute_result"
    }
   ],
   "source": [
    "nn_cyk_model.forward(7)"
   ]
  },
  {
   "cell_type": "markdown",
   "id": "49343af5-5035-42ec-93b7-045bd73d54e7",
   "metadata": {},
   "source": [
    "## 8.2 Combine All the models and make predictions"
   ]
  },
  {
   "cell_type": "code",
   "execution_count": 34,
   "id": "c4c271b4-6078-4a69-aacf-eb5721b669a3",
   "metadata": {},
   "outputs": [],
   "source": [
    "simple_full_connection_prediction_model = FCPrediction()"
   ]
  },
  {
   "cell_type": "code",
   "execution_count": null,
   "id": "1fdc8890-bc59-4a00-b0b6-317d3906167f",
   "metadata": {},
   "outputs": [],
   "source": [
    "syntax_infused_model = \\\n",
    "    SyntaxInfusedModel(sequential_model = \\\n",
    "                       ,syntax_model = nn_cyk_model\\\n",
    "                       , combining_model = combine_model\\\n",
    "                       , prediction_model = simple_full_connection_prediction_model)"
   ]
  },
  {
   "cell_type": "code",
   "execution_count": null,
   "id": "8282c741-b6a9-4329-a4e3-d3bc7cd41d92",
   "metadata": {},
   "outputs": [],
   "source": []
  },
  {
   "cell_type": "code",
   "execution_count": null,
   "id": "729fa735-c933-40c3-876a-bf280dadf30c",
   "metadata": {},
   "outputs": [],
   "source": []
  },
  {
   "cell_type": "code",
   "execution_count": null,
   "id": "ee5ce93b-9589-48eb-9597-cc36563d7f5c",
   "metadata": {},
   "outputs": [],
   "source": []
  },
  {
   "cell_type": "code",
   "execution_count": null,
   "id": "05b29c32-b033-4354-80a5-10470552b488",
   "metadata": {},
   "outputs": [],
   "source": []
  },
  {
   "cell_type": "code",
   "execution_count": null,
   "id": "1368e8e8-304f-4bbc-ab56-ca0fedb32397",
   "metadata": {},
   "outputs": [],
   "source": []
  },
  {
   "cell_type": "code",
   "execution_count": null,
   "id": "22ec5dc0-98fa-4dee-b90d-b11b37a21fc2",
   "metadata": {},
   "outputs": [],
   "source": []
  },
  {
   "cell_type": "code",
   "execution_count": null,
   "id": "093df591-8a82-45d2-92f2-593ebdd13135",
   "metadata": {},
   "outputs": [],
   "source": []
  },
  {
   "cell_type": "code",
   "execution_count": null,
   "id": "0afd673d-eb4c-4120-9d36-efe08a9af399",
   "metadata": {},
   "outputs": [],
   "source": []
  },
  {
   "cell_type": "code",
   "execution_count": null,
   "id": "ec9fd736-b6c9-4934-ae7a-07fb54630f9f",
   "metadata": {},
   "outputs": [],
   "source": []
  },
  {
   "cell_type": "code",
   "execution_count": null,
   "id": "b6c968d1-ba5d-4561-b656-18cb0ea756ca",
   "metadata": {},
   "outputs": [],
   "source": []
  },
  {
   "cell_type": "code",
   "execution_count": null,
   "id": "f4402eb9-0654-4663-8cad-bbf420701644",
   "metadata": {},
   "outputs": [],
   "source": []
  },
  {
   "cell_type": "code",
   "execution_count": null,
   "id": "334acd75-777a-415f-866c-19bfae726629",
   "metadata": {},
   "outputs": [],
   "source": []
  },
  {
   "cell_type": "code",
   "execution_count": null,
   "id": "d726bd69-1db7-4f9c-b047-f518f52943ed",
   "metadata": {},
   "outputs": [],
   "source": []
  }
 ],
 "metadata": {
  "kernelspec": {
   "display_name": "Python 3 (ipykernel)",
   "language": "python",
   "name": "python3"
  },
  "language_info": {
   "codemirror_mode": {
    "name": "ipython",
    "version": 3
   },
   "file_extension": ".py",
   "mimetype": "text/x-python",
   "name": "python",
   "nbconvert_exporter": "python",
   "pygments_lexer": "ipython3",
   "version": "3.9.0"
  }
 },
 "nbformat": 4,
 "nbformat_minor": 5
}
