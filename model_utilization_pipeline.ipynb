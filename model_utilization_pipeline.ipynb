{
 "cells": [
  {
   "cell_type": "markdown",
   "id": "1d330fd5-8432-44de-8a39-30e09dd7edc3",
   "metadata": {},
   "source": [
    "# 1. Import Package"
   ]
  },
  {
   "cell_type": "code",
   "execution_count": 1,
   "id": "377cf689-5f4f-482f-89d1-f2129ee2fe22",
   "metadata": {},
   "outputs": [],
   "source": [
    "from scripts.applications.prediction_models.models.syntax_infused_model import *\n",
    "from scripts.applications.prediction_models.models.sequential_model import *\n",
    "from scripts.applications.prediction_models.models.neural_cky import *\n",
    "from scripts.language_processing.language_builder.neural_builder.models.tn_pcfg import TNPCFG\n",
    "from scripts.language_processing.language_builder.neural_builder.models.utils import rebuild_T_from_head_left_right"
   ]
  },
  {
   "cell_type": "code",
   "execution_count": 2,
   "id": "806b50b9-1694-4aae-ae1f-b57378c4e34e",
   "metadata": {},
   "outputs": [],
   "source": [
    "import numpy as np\n",
    "import random"
   ]
  },
  {
   "cell_type": "markdown",
   "id": "e287d40f-df9b-4127-a2c8-08ca96f6f403",
   "metadata": {},
   "source": [
    "# 2. Variable and function Definitions"
   ]
  },
  {
   "cell_type": "code",
   "execution_count": 3,
   "id": "ab6a40e4-f3a4-4f41-8e26-36c40aea9e58",
   "metadata": {},
   "outputs": [],
   "source": [
    "main_configuration = {\n",
    "'cnt_channels': 19,\n",
    "'cnt_words': 10,\n",
    "'word_emb_size': 200,\n",
    "'syntax_infused_model_args': \n",
    "    {'NT': 20,\n",
    "              'T': 65,\n",
    "              's_dim': 50,\n",
    "              'r_dim': 75,\n",
    "              'word_emb_size': 200,\n",
    "            'cnt_words': 10,\n",
    "            'summary_parameters': True,\n",
    "    }\n",
    "}\n",
    "cnt_channels = main_configuration['cnt_channels']\n",
    "cnt_words = main_configuration['cnt_words']\n",
    "word_emb_size = main_configuration['word_emb_size']"
   ]
  },
  {
   "cell_type": "code",
   "execution_count": 4,
   "id": "da46b8a6-a71d-42b6-a6e3-643bbec6b719",
   "metadata": {},
   "outputs": [],
   "source": [
    "def generate_random_eeg_data(cnt_channels = 19, cnt_time_samples = 1000): # unit: mV\n",
    "    return 0.1 * np.random.random_sample((cnt_channels, cnt_time_samples)) * 90\n",
    "\n",
    "def generate_random_eeg_microstates(cnt_channels = 19, cnt_time_samples = 1000): # unit: mV\n",
    "    return np.random.randint(0, cnt_words, (cnt_time_samples))\n",
    "\n",
    "def generate_random_segmented_eeg_data(cnt_channels = 19, cnt_time_samples = 1000): # unit: mV\n",
    "    dummy_eeg_data = generate_dummy_eeg_data(cnt_channels, cnt_time_samples)\n",
    "    split_points = [0]\n",
    "    p = np.random()\n",
    "    for i in range(1, cnt_time_samples):\n",
    "        if np.random() < p:\n",
    "            split_points.append(i)\n",
    "    split_points.append(cnt_time_samples)\n",
    "    return [dummy_eeg_data[split_points[i - 1], split_points[i]] for i in range(1, len(split_points))]\n",
    "\n",
    "def generate_random_corpus(word_count, cnt_article, article_max_length):\n",
    "    return [np.random.randint(0, word_count, size = (np.random.randint(0, article_max_length))) for _ in range(cnt_article)]\n",
    "    "
   ]
  },
  {
   "cell_type": "markdown",
   "id": "31cafab1-f448-4555-be4a-85ad1cab17ac",
   "metadata": {},
   "source": [
    "# 3. Data Preparation"
   ]
  },
  {
   "cell_type": "markdown",
   "id": "1b8de587-8377-472e-9d53-10bf8333270f",
   "metadata": {},
   "source": [
    "## 3.1 Prerequisite - Dictionary Building"
   ]
  },
  {
   "cell_type": "code",
   "execution_count": 17,
   "id": "ce9a931e-2a28-447e-80fd-9b66c867a751",
   "metadata": {},
   "outputs": [],
   "source": [
    "random_eeg_data = generate_random_eeg_data(cnt_channels = cnt_channels)"
   ]
  },
  {
   "cell_type": "code",
   "execution_count": 18,
   "id": "6e574cd0-9838-4979-afcc-9226973207c4",
   "metadata": {},
   "outputs": [],
   "source": [
    "random_microstate_sequences = generate_random_eeg_microstates(cnt_channels = cnt_channels)"
   ]
  },
  {
   "cell_type": "markdown",
   "id": "e5d57f32-aa29-4443-92dc-8b3c100977b2",
   "metadata": {},
   "source": [
    "# 4. Word Embedding"
   ]
  },
  {
   "cell_type": "code",
   "execution_count": 19,
   "id": "4aa03d29-017a-41ba-98e4-7220bb781b63",
   "metadata": {},
   "outputs": [],
   "source": [
    "from scripts.applications.prediction_models.models.word_embedding import *"
   ]
  },
  {
   "cell_type": "code",
   "execution_count": 20,
   "id": "26348604-00f8-4e05-9e2d-0eda792234de",
   "metadata": {},
   "outputs": [],
   "source": [
    "embeding_model = WordEmbeddingModel(vocab_size = cnt_words, embedding_dim = word_emb_size, context_size = 2)"
   ]
  },
  {
   "cell_type": "markdown",
   "id": "bf6110a7-9235-448b-bb79-7d3d28967765",
   "metadata": {},
   "source": [
    "# 4.1 Trainning"
   ]
  },
  {
   "cell_type": "code",
   "execution_count": 21,
   "id": "60b96e50-b6ac-4595-b0f4-757a072db083",
   "metadata": {},
   "outputs": [
    {
     "name": "stdout",
     "output_type": "stream",
     "text": [
      "epoch = 0\n",
      "loss = 2319.711887\n",
      "epoch = 1\n",
      "loss = 2272.067009\n",
      "epoch = 2\n",
      "loss = 2243.640959\n",
      "epoch = 3\n",
      "loss = 2223.275610\n",
      "epoch = 4\n",
      "loss = 2207.727513\n",
      "epoch = 5\n",
      "loss = 2194.905063\n",
      "epoch = 6\n",
      "loss = 2183.395003\n",
      "epoch = 7\n",
      "loss = 2172.924126\n",
      "epoch = 8\n",
      "loss = 2163.637687\n",
      "epoch = 9\n",
      "loss = 2154.862836\n"
     ]
    }
   ],
   "source": [
    "sentences = [random_microstate_sequences]\n",
    "embeding_model.train(sentences)"
   ]
  },
  {
   "cell_type": "markdown",
   "id": "1e32a9b3-a0f8-46c4-9073-1954d709f52b",
   "metadata": {},
   "source": [
    "## 4.2 Extract Embeddings"
   ]
  },
  {
   "cell_type": "code",
   "execution_count": 22,
   "id": "fae422bd-1318-497c-9df7-10ce4b6ce14b",
   "metadata": {},
   "outputs": [],
   "source": [
    "word_embeddings = embeding_model.embeddings.weight"
   ]
  },
  {
   "cell_type": "markdown",
   "id": "b93136df-7448-48a0-afc7-4a8e6341df80",
   "metadata": {},
   "source": [
    "# 5. Modal Combination Model Creation"
   ]
  },
  {
   "cell_type": "code",
   "execution_count": 23,
   "id": "118ee0e5-0977-41e2-ba9e-588987a4dcfc",
   "metadata": {},
   "outputs": [],
   "source": [
    "combine_model = SimpleConcatCombing()"
   ]
  },
  {
   "cell_type": "markdown",
   "id": "4b39d0b9-8fc8-4eb2-81dc-4762a54560e1",
   "metadata": {},
   "source": [
    "# 6. Base Prediction Creation"
   ]
  },
  {
   "cell_type": "code",
   "execution_count": 24,
   "id": "c456e684-6736-4106-aff4-af33ba06b1ad",
   "metadata": {},
   "outputs": [],
   "source": [
    "LNN_electrode_value_based_prediction_model = LNNElectrodeValueBasedPredictionModel(ncp_input_size = cnt_channels, hidden_size=100, output_size=1, sequence_length=1)"
   ]
  },
  {
   "cell_type": "markdown",
   "id": "aad733a3-e3b8-4b9f-a1f0-9bdef1916c43",
   "metadata": {},
   "source": [
    "# 7. Prediction pre-epileptic state possibility in each time point by using the Base Prediction Model "
   ]
  },
  {
   "cell_type": "markdown",
   "id": "66970231-87c7-4dee-8536-a238b5c55118",
   "metadata": {},
   "source": [
    "## 7.1 Trainning"
   ]
  },
  {
   "cell_type": "markdown",
   "id": "7097701c-dfc5-47ba-8822-42ab137ab413",
   "metadata": {},
   "source": [
    "## 7.2 Inference"
   ]
  },
  {
   "cell_type": "code",
   "execution_count": 25,
   "id": "f9aa857f-57ff-48ff-be1a-ffa295f31141",
   "metadata": {},
   "outputs": [
    {
     "data": {
      "text/plain": [
       "tensor([[ 0.9766,  0.4991,  0.5909,  0.9743, -0.5163, -0.9464, -0.4395, -0.3884,\n",
       "          0.5344,  0.9542, -0.8245,  0.9662, -0.5409,  0.0100, -0.7164,  0.2344,\n",
       "         -0.6876, -0.9105,  0.9108,  0.0628,  0.0934, -0.1050,  0.9922, -0.8664,\n",
       "          0.6076, -0.9161, -0.6411, -0.3184, -0.5594,  0.3597, -0.0733, -0.6132,\n",
       "         -0.9692,  0.3023,  0.8505,  0.9691, -0.2219, -0.3423, -0.4919, -0.5254,\n",
       "          0.1081,  0.7915,  0.7671, -0.9033,  0.9650,  0.4035, -0.9247, -0.3916,\n",
       "          0.7467,  0.9494,  0.3338, -0.5332, -0.8956, -0.8575,  0.4037,  0.0835,\n",
       "          0.8984, -0.8676,  0.5323, -0.0046,  0.1823,  0.1825,  0.2357, -0.1049,\n",
       "          0.0123,  0.5079,  0.4044, -0.2313, -0.0747, -0.2009,  0.1684,  0.2198,\n",
       "         -0.4991, -0.1377, -0.4898,  0.4581, -0.3525,  0.1756, -0.5211,  0.2688,\n",
       "         -0.4951, -0.0279, -0.3512, -0.0576, -0.1016, -0.0119,  0.6880,  0.1726,\n",
       "          0.2249,  0.1484, -0.4089, -0.0568, -0.2631,  0.0322,  0.2280,  0.3152,\n",
       "          0.1371,  0.1627, -0.2208, -0.0048]], grad_fn=<CatBackward0>)"
      ]
     },
     "execution_count": 25,
     "metadata": {},
     "output_type": "execute_result"
    }
   ],
   "source": [
    "h = LNN_electrode_value_based_prediction_model.h\n",
    "for t in range(random_eeg_data.shape[1]):\n",
    "    input_t = torch.Tensor(random_eeg_data[:, t])\n",
    "    out, h = LNN_electrode_value_based_prediction_model.forward(input_t)\n",
    "h"
   ]
  },
  {
   "cell_type": "markdown",
   "id": "96646351-e547-4afe-8234-6515b6b3870a",
   "metadata": {},
   "source": [
    "# 8. Syntax-infused Prediction Model "
   ]
  },
  {
   "cell_type": "code",
   "execution_count": 26,
   "id": "36d94727-72e5-4d07-b01d-711a0423199b",
   "metadata": {},
   "outputs": [],
   "source": [
    "args = main_configuration['syntax_infused_model_args']\n",
    "args['word_embeddings'] = word_embeddings"
   ]
  },
  {
   "cell_type": "markdown",
   "id": "97b082e6-03d0-4dc7-9412-47696dcf6823",
   "metadata": {},
   "source": [
    "## 8.1 Build Grammar"
   ]
  },
  {
   "cell_type": "markdown",
   "id": "9486f8f3-f706-447d-b797-4b3c7c703cd7",
   "metadata": {},
   "source": [
    "### 8.1.1 TN-PCFG Model Creation"
   ]
  },
  {
   "cell_type": "code",
   "execution_count": 27,
   "id": "b9cf0f6c-840f-474d-91d3-ac63cb239a04",
   "metadata": {},
   "outputs": [
    {
     "name": "stdout",
     "output_type": "stream",
     "text": [
      "build td pcfg\n",
      "device = cpu, NT = 20, T = 65, V = 10, s_dim = 50, r = 75, word_emb_size = 200\n"
     ]
    }
   ],
   "source": [
    "tn_pcfg = TNPCFG(args=args)\n",
    "# print(f\"{tn_pcfg}\")"
   ]
  },
  {
   "cell_type": "code",
   "execution_count": 28,
   "id": "91bec8f0-2ad8-4546-b12d-212abd0075e1",
   "metadata": {},
   "outputs": [
    {
     "data": {
      "text/plain": [
       "TNPCFG(\n",
       "  (root_mlp): Sequential(\n",
       "    (0): Linear(in_features=50, out_features=50, bias=True)\n",
       "    (1): ResLayer(\n",
       "      (linear): Sequential(\n",
       "        (0): Linear(in_features=50, out_features=50, bias=True)\n",
       "        (1): ReLU()\n",
       "        (2): Linear(in_features=50, out_features=50, bias=True)\n",
       "        (3): ReLU()\n",
       "      )\n",
       "    )\n",
       "    (2): ResLayer(\n",
       "      (linear): Sequential(\n",
       "        (0): Linear(in_features=50, out_features=50, bias=True)\n",
       "        (1): ReLU()\n",
       "        (2): Linear(in_features=50, out_features=50, bias=True)\n",
       "        (3): ReLU()\n",
       "      )\n",
       "    )\n",
       "    (3): Linear(in_features=50, out_features=20, bias=True)\n",
       "  )\n",
       "  (term_mlp): Sequential(\n",
       "    (0): Linear(in_features=50, out_features=50, bias=True)\n",
       "    (1): ResLayer(\n",
       "      (linear): Sequential(\n",
       "        (0): Linear(in_features=50, out_features=50, bias=True)\n",
       "        (1): ReLU()\n",
       "        (2): Linear(in_features=50, out_features=50, bias=True)\n",
       "        (3): ReLU()\n",
       "      )\n",
       "    )\n",
       "    (2): ResLayer(\n",
       "      (linear): Sequential(\n",
       "        (0): Linear(in_features=50, out_features=50, bias=True)\n",
       "        (1): ReLU()\n",
       "        (2): Linear(in_features=50, out_features=50, bias=True)\n",
       "        (3): ReLU()\n",
       "      )\n",
       "    )\n",
       "    (3): Linear(in_features=50, out_features=10, bias=True)\n",
       "  )\n",
       "  (parent_mlp): Sequential(\n",
       "    (0): Linear(in_features=50, out_features=50, bias=True)\n",
       "    (1): ReLU()\n",
       "    (2): Linear(in_features=50, out_features=75, bias=True)\n",
       "  )\n",
       "  (left_mlp): Sequential(\n",
       "    (0): Linear(in_features=50, out_features=50, bias=True)\n",
       "    (1): ReLU()\n",
       "    (2): Linear(in_features=50, out_features=75, bias=True)\n",
       "  )\n",
       "  (right_mlp): Sequential(\n",
       "    (0): Linear(in_features=50, out_features=50, bias=True)\n",
       "    (1): ReLU()\n",
       "    (2): Linear(in_features=50, out_features=75, bias=True)\n",
       "  )\n",
       ")"
      ]
     },
     "execution_count": 28,
     "metadata": {},
     "output_type": "execute_result"
    }
   ],
   "source": [
    "tn_pcfg"
   ]
  },
  {
   "cell_type": "markdown",
   "id": "acfab97c-c71c-49c3-8f0b-1a981533fe9e",
   "metadata": {},
   "source": [
    "### 8.1.2 Corpus Creation"
   ]
  },
  {
   "cell_type": "code",
   "execution_count": 29,
   "id": "df133589-b681-4138-b298-1bf3c8793203",
   "metadata": {},
   "outputs": [],
   "source": [
    "# corpus is a order-two list. Each element is a list that contain a sequence of microstates\n",
    "corpus = generate_random_corpus(cnt_words, 1000, 2000)"
   ]
  },
  {
   "cell_type": "markdown",
   "id": "827030aa-831e-4cb5-9ccf-cdfbcfac1504",
   "metadata": {},
   "source": [
    "### 8.1.4 Trainning"
   ]
  },
  {
   "cell_type": "markdown",
   "id": "55df0af2-f048-42a8-99c7-aa49f253c675",
   "metadata": {},
   "source": [
    "### 8.1.3 Do Inference in TN-PCFG to Extract Grammars"
   ]
  },
  {
   "cell_type": "code",
   "execution_count": 30,
   "id": "156303fc-72ed-4199-8ff6-62f9e87fcef6",
   "metadata": {},
   "outputs": [],
   "source": [
    "sentence_for_inference = corpus[0]"
   ]
  },
  {
   "cell_type": "code",
   "execution_count": 31,
   "id": "5a689a50-2c30-467f-8aa6-56fad4aaa10d",
   "metadata": {},
   "outputs": [
    {
     "name": "stdout",
     "output_type": "stream",
     "text": [
      "begin forward>>>>>>>>>>>>>\n",
      "x = [[8 9 7 2 1 6 7 8 2 3 8 7 0 9 8 7 3 3 4 2 7 5 3 7 6 2 6 2 8 3 7 4 7 8 0 6\n",
      "  1 9 3 7 0 3 6 3 4 5 3 8 6 2 4 3 4 2 7 6 0 8 9 0 4 2 5 7 9 0 4 8 4 3 2 4\n",
      "  5 0 5 1 8 2 4 5 6 1 9 8 1 4 3 2 4 0 0 4 4 0 7 9 4 9 2 9 2 1 9 1 7 8 7 0\n",
      "  8 6 4 9 1 5 4 2 3 3 3 2 8 5 2 3 5 7 8 2 2 0 3 4 7 6 0 7 9 5 2 3 3 5 0 2\n",
      "  2 0 7 8 1 9 2 3 9 3 9 2 4 9 2 1 9 4 0 5 3 7 7 6 1 6 3 0 8 8 3 2 3 8 7 5\n",
      "  0 1 6 5 3 0 5 5 6 1 8 8 3 1 9 2 0 3 9 0 8 1 6 3 6 9 3 2 9 0 2 2 9 9 6 9\n",
      "  1 7 3 8 7 5 0 3 4 6 4 5 6 9 7 2 7 8 1 5 7 1 3 6 3 9 3 6 3 8 1 8 4 0 9 7\n",
      "  7 5 6 2 5 8 5 6 9 7 5 6 7 9 0 7 0 6 3 4 6 1 5 8 1 6 0 7 7 4 3 9 1 0 1 9\n",
      "  8 0 0 0 9 0 5 3 1 3 0 9 0 0 5 5 1 1 4 6 6 9 2 9 3 8 6 9 4 6 0 1 7 5 0 1\n",
      "  0 2 1 5 6 5 0 6 3 6 0 2 0 5 2 5 6 8 5 1 3 1 3 4 9 8 9 5 6 7 3 4 8 4 6 9\n",
      "  7 1 2 2 2 3 7 2 0 5 2 7 8 9 8 0 2 3 6 2 8 5 2 2 7 9 2 5 3 0 2 7 2 7 3 6\n",
      "  5 2 8 4 5 6 3 7 6 2 4 6 4 3 1 9 4 4 2 6 9 9 8 6 0 0 5 4 7 7 2 4 7 8 6 9\n",
      "  8 5 7 2 4 2 6 8 7 4 4 1 6 1 7 5 7 2 4 0 1 9 2 7 3 2 7 7 8 9 7 2 7 6 7 4\n",
      "  8 3 8 3 7 2 3 5 3 7 2 1 5 6 1 7 8 6 9 1 5 1 6 3 7 5 5 5 9 1 1 6 0 7 4 1\n",
      "  9 4 3 8 8 7 4 6 6 7 2 9 2 9 8 1 4 0 3 9 2 7 0 4 7 5 1 1 9 8 6 8 1 8 9 3\n",
      "  0 8 2 1 7 4 0 0 5 1 2 4 2 4 9 0 7 7 0 1 7 5 3 4 4 2 3 7 9 3 6 0 9 5 2 7\n",
      "  9 5 7 3 7 5 0 2 5 2 7 1 2 6 7 2 2 7 8 9 0 2 6 3 6 2 3 0 1 5 6 8 6 9 3 2\n",
      "  2 7 6 6 6 5 1 8 2 5 3 8 4 0 7 6 4 1 4 0 9 1 8 2 9 6 1 6 3 8 7 2 6 2 8 4\n",
      "  7 2 6 3 5 0 7 3 2 4 5 2 4 2 6 6 6 9 9 5 5 7 7 9 7 7 0 1 0 5 1 6 8 0 7 2\n",
      "  1 1 3 4 8 7 2 7 9 2 6 7 0 2 6 3 1 9 0 8 3 6 0 7 2 1 5 6 8 4 1 4 1 0 9 4\n",
      "  3 9 2 0 2 9 7 9 5 7 6 9 3 3 5 0 3 6 5 2 8 5 4 1 1 1 9 9 7 6 1 3 9 2 9 5\n",
      "  0 9 3 8 1 4 3 7 9 9 3 1 3 6 4 3]]\n",
      "b, n = 1, 772\n",
      "torch.Size([65, 10])\n",
      "torch.Size([1, 772, 65]) torch.Size([1, 20]) torch.Size([1, 20, 75]) torch.Size([1, 85, 75]) torch.Size([1, 85, 75])\n"
     ]
    }
   ],
   "source": [
    "inference = tn_pcfg.forward(input={'word':(np.array(sentence_for_inference)).reshape((1, len(corpus[0])))})"
   ]
  },
  {
   "cell_type": "code",
   "execution_count": 32,
   "id": "a6958b90-ec88-4cf2-99fc-6647d7b7184b",
   "metadata": {},
   "outputs": [
    {
     "data": {
      "text/plain": [
       "dict_keys(['unary', 'root', 'head', 'left', 'right', 'kl'])"
      ]
     },
     "execution_count": 32,
     "metadata": {},
     "output_type": "execute_result"
    }
   ],
   "source": [
    "inference.keys()"
   ]
  },
  {
   "cell_type": "code",
   "execution_count": 33,
   "id": "d16b810a-e1a5-4666-b7af-fff1d32baef2",
   "metadata": {},
   "outputs": [],
   "source": [
    "# convert the inference result of 'unary' array to a more formal form.\n",
    "# the original unary is a 2-dimension array, in which i-th row is possibility of each terminate symbol directly deduct to the word at time point t.\n",
    "# in the origin ouput, unary[i] = unary[j] if word_sequence[i] = word_sequence[j]\n",
    "# now we put each unique word's feature into a 2-dimension matrix.\n",
    "inference_unary = np.zeros((args['T'], args['cnt_words']))\n",
    "original_unary = inference['unary'].detach().numpy()[0]\n",
    "sequence_length = original_unary.shape[0]\n",
    "for i in range(sequence_length):\n",
    "    inference_unary[:, sentence_for_inference[i]] = original_unary[i]"
   ]
  },
  {
   "cell_type": "code",
   "execution_count": 34,
   "id": "ac730317-e488-42d0-8a98-d2843883888c",
   "metadata": {},
   "outputs": [],
   "source": [
    "def rebuild_T_from_head_left_right(head, left, right, NT, T):\n",
    "    r_dim = head.shape[1]\n",
    "    sum_NT_T = NT + T\n",
    "    T = np.zeros((NT * sum_NT_T * sum_NT_T))\n",
    "    for r in range(r_dim):\n",
    "        T += np.kron(np.kron(head[:, r].detach().numpy(), left[:, r].detach().numpy()), right[:, r].detach().numpy())\n",
    "    return T.reshape((NT, sum_NT_T, sum_NT_T))"
   ]
  },
  {
   "cell_type": "code",
   "execution_count": 35,
   "id": "6e23aa0b-90dc-4143-abad-b4d84882448a",
   "metadata": {},
   "outputs": [],
   "source": [
    "T = rebuild_T_from_head_left_right(inference['head'][0], inference['left'][0], inference['right'][0], args['NT'], args['T'])"
   ]
  },
  {
   "cell_type": "markdown",
   "id": "77f77927-4578-49e2-8861-de0b8ed6edc7",
   "metadata": {},
   "source": [
    "### 8.1.4 Complement grammar in args for NN-CYK model."
   ]
  },
  {
   "cell_type": "code",
   "execution_count": 36,
   "id": "87061700-9a75-4cfa-b1aa-9dec72e0a698",
   "metadata": {},
   "outputs": [],
   "source": [
    "args['grammar_starts'] = inference['root'].detach().numpy()[0]\n",
    "args['grammar_preterminates'] = inference_unary\n",
    "args['grammar_double_nonterminates'] = T"
   ]
  },
  {
   "cell_type": "code",
   "execution_count": 37,
   "id": "91894354-856a-491b-ae92-a200b99a358d",
   "metadata": {},
   "outputs": [],
   "source": [
    "# {\n",
    "#     'head': np.random.random((args['NT'])),\n",
    "#     'left': np.random.random((args['NT'] + args['T'], args['r_dim'])),\n",
    "#     'right': np.random.random((args['NT'] + args['T'], args['r_dim']))\n",
    "# }\n",
    "args['beam_search_strategy'] = select_tops\n",
    "args['preterminate_feature_generation_model'] = NN_CYK_FeatureCombingModel_Preterminate()\n",
    "args['merge_model'] = NN_CYK_FeatureCombingModel_NonPreterminate()"
   ]
  },
  {
   "cell_type": "code",
   "execution_count": 38,
   "id": "e9fb8518-736d-4152-a8df-609a79fce2b2",
   "metadata": {},
   "outputs": [],
   "source": [
    "nn_cyk_model = NN_CYK_Model(args)"
   ]
  },
  {
   "cell_type": "markdown",
   "id": "5e518731-9016-4b3a-aa95-170e088d507b",
   "metadata": {},
   "source": [
    "### 8.1.5 Trainning"
   ]
  },
  {
   "cell_type": "markdown",
   "id": "119a5f64-3809-44b3-a36b-03fe17c3c39d",
   "metadata": {},
   "source": [
    "### 8.1.6 Inference"
   ]
  },
  {
   "cell_type": "code",
   "execution_count": 39,
   "id": "b8947fc9-3ed4-4871-823b-3cba82592480",
   "metadata": {},
   "outputs": [
    {
     "name": "stdout",
     "output_type": "stream",
     "text": [
      "append record.\n"
     ]
    },
    {
     "data": {
      "text/plain": [
       "tensor([ 0.7401, -0.1256, -0.1010, -0.5411, -0.5840, -0.1486,  0.1459, -0.0258,\n",
       "         0.7829, -0.4209,  0.1955,  0.5428,  0.2669, -0.1389, -0.6353,  0.7618,\n",
       "        -0.9138, -0.9114, -0.7384, -0.1219, -0.2241, -0.4728, -0.7312,  0.2011,\n",
       "         0.5128, -0.0093, -1.0061,  0.4000,  0.4479,  0.8501, -0.0963,  0.1462,\n",
       "        -0.7227,  0.8879, -0.6507, -0.3470,  0.2301,  0.2234, -0.5738,  0.3307,\n",
       "        -0.0110, -1.1734, -0.4960, -0.0873,  0.8719,  0.5835,  0.2668,  0.4019,\n",
       "        -1.2909,  0.8306,  0.0714, -0.6806,  0.3403, -0.0030, -0.4116, -0.6925,\n",
       "        -0.3118, -0.3374, -0.3195,  0.9973, -0.3208,  0.6672,  0.3906, -0.9831,\n",
       "         0.8489,  0.2963,  0.0044, -0.2399, -0.5768,  0.2718,  0.8990,  0.0952,\n",
       "         0.4226,  0.1388,  0.8551, -0.1433, -0.1541, -0.1093, -0.2150,  0.5949,\n",
       "         0.7079, -0.0673, -0.2975,  0.1168, -0.4673, -0.3232, -0.3551, -0.9788,\n",
       "         0.1420, -0.1587,  0.5684, -0.0234,  0.2520,  0.1809,  0.4738, -0.9502,\n",
       "        -0.1888,  0.0876,  0.4909, -0.3673, -0.3345, -0.6897, -0.5246, -0.2133,\n",
       "         0.7672,  0.1810, -0.6349,  0.7296, -0.2793, -0.3522, -0.5488,  0.3875,\n",
       "        -1.4754, -0.7747, -0.6787,  0.9521,  0.5458, -1.0605, -0.3854,  0.1347,\n",
       "         0.6049, -0.4311,  0.0702, -1.3134,  0.1647, -0.2063, -0.5418,  1.2696],\n",
       "       grad_fn=<ViewBackward0>)"
      ]
     },
     "execution_count": 39,
     "metadata": {},
     "output_type": "execute_result"
    }
   ],
   "source": [
    "nn_cyk_model.forward(5)"
   ]
  },
  {
   "cell_type": "code",
   "execution_count": 40,
   "id": "86776ea3-775f-4617-90e5-c95bf1efcaf7",
   "metadata": {},
   "outputs": [
    {
     "name": "stdout",
     "output_type": "stream",
     "text": [
      "append record.\n",
      "fill record in t=1\n"
     ]
    },
    {
     "data": {
      "text/plain": [
       "tensor([ 4.7252e-01,  2.7013e-01,  3.7258e-03,  3.2793e-01,  5.3487e-02,\n",
       "         4.6068e-01,  3.9665e-01,  2.9438e-01,  1.7299e-01,  2.4426e-01,\n",
       "        -4.6722e-01,  3.2486e-01, -4.1011e-02,  5.4341e-01, -1.0404e-01,\n",
       "        -1.9778e-01, -2.9065e-01,  5.5908e-02,  7.7888e-01,  1.1204e-01,\n",
       "        -1.2551e-01,  8.6686e-02, -2.4632e-01, -2.5040e-01, -3.2811e-01,\n",
       "        -7.3649e-01, -2.2719e-02, -8.0527e-01, -3.0085e-01, -2.4382e-01,\n",
       "         3.1719e-01, -2.3702e-01, -9.2219e-02,  3.3333e-01,  3.8298e-01,\n",
       "        -2.3147e-01,  1.3858e-01, -4.6851e-01,  4.3485e-01,  5.6681e-02,\n",
       "         3.7423e-01, -4.5774e-01, -7.6377e-02,  2.0358e-01, -2.7485e-01,\n",
       "         1.5779e-01,  3.8227e-02,  5.1753e-01, -8.7715e-01, -1.8769e-01,\n",
       "         1.4242e-01, -4.4473e-01,  3.0828e-01,  5.0050e-03,  5.3718e-01,\n",
       "         7.5887e-01,  3.1679e-01,  3.7959e-01,  2.8627e-01, -4.5115e-01,\n",
       "         7.8995e-02,  2.1161e-01, -5.8046e-01, -3.7135e-01,  3.3012e-01,\n",
       "        -1.8936e-01,  3.7534e-01,  1.9536e-01, -2.6779e-01,  3.1569e-01,\n",
       "         5.9237e-01,  6.1532e-01, -1.7842e-01,  3.3365e-01,  5.3970e-01,\n",
       "         1.8283e-01, -2.3666e-01, -2.5216e-02,  1.8652e-01,  2.0500e-01,\n",
       "         9.6083e-02,  1.2121e-01,  1.5843e-01,  4.3264e-01,  3.5288e-01,\n",
       "        -2.0291e-01, -1.2834e-06, -1.1260e-01,  5.7978e-01, -9.7683e-02,\n",
       "        -1.4120e-02,  1.4354e-01,  2.2404e-01, -1.9797e-01, -2.2777e-01,\n",
       "        -1.2103e-01, -3.9661e-02,  9.1977e-02, -3.2585e-01, -1.8445e-01,\n",
       "        -4.4714e-01, -1.9975e-01,  2.3132e-01, -1.7261e-02,  3.3289e-01,\n",
       "         9.6496e-02,  1.5057e-01,  2.3320e-01, -2.6101e-02, -8.2571e-02,\n",
       "        -5.0866e-01,  3.5809e-01, -2.4662e-01, -3.5700e-01,  8.8401e-02,\n",
       "         3.1878e-02,  1.8672e-01,  6.5861e-03,  3.7097e-01,  3.4956e-01,\n",
       "        -2.5389e-01,  1.9248e-01,  4.0204e-01, -4.9786e-01,  1.5623e-01,\n",
       "        -3.1638e-01, -1.8794e-01, -3.2952e-02], grad_fn=<DivBackward0>)"
      ]
     },
     "execution_count": 40,
     "metadata": {},
     "output_type": "execute_result"
    }
   ],
   "source": [
    "nn_cyk_model.forward(5)"
   ]
  },
  {
   "cell_type": "code",
   "execution_count": 41,
   "id": "e67188c4-1c68-4028-a8ce-69240afc5abc",
   "metadata": {
    "scrolled": true
   },
   "outputs": [
    {
     "name": "stdout",
     "output_type": "stream",
     "text": [
      "append record.\n",
      "fill record in t=2\n",
      "fill record in t=2\n"
     ]
    },
    {
     "data": {
      "text/plain": [
       "tensor([-0.1818, -0.1178, -0.1578, -0.0070, -0.0084, -0.0460,  0.0532,  0.1301,\n",
       "         0.1007, -0.2285, -0.2410,  0.4679,  0.1176,  0.2411, -0.1363, -0.1358,\n",
       "        -0.0600,  0.0019, -0.3458,  0.0272, -0.0565, -0.0531,  0.0081,  0.2192,\n",
       "         0.0301,  0.1114, -0.3513, -0.2460,  0.1854, -0.2197,  0.1038, -0.0256,\n",
       "        -0.1426,  0.1065,  0.0792, -0.0234,  0.0739, -0.2953,  0.1497, -0.1045,\n",
       "        -0.1796,  0.1129,  0.1203, -0.1708, -0.1600,  0.1200, -0.1049, -0.0205,\n",
       "        -0.1411, -0.0186,  0.0761, -0.1457,  0.1526,  0.0122, -0.0474, -0.1892,\n",
       "         0.2593, -0.1574,  0.2464,  0.1238, -0.0404,  0.2189, -0.0007, -0.1194,\n",
       "         0.0278, -0.1407,  0.2725,  0.0475, -0.0526,  0.2570, -0.1673,  0.1154,\n",
       "        -0.0824,  0.0087, -0.0149,  0.1678,  0.1139,  0.1952, -0.1563,  0.2322,\n",
       "         0.2230,  0.1286,  0.1506, -0.0929, -0.0704,  0.1703, -0.0965, -0.1433,\n",
       "        -0.1075,  0.0854,  0.2216, -0.1878, -0.0398, -0.1222, -0.1281, -0.1246,\n",
       "         0.0572, -0.0940,  0.1130,  0.2545,  0.1230,  0.0372,  0.0372,  0.1707,\n",
       "         0.0635, -0.2323, -0.1356,  0.0048, -0.1087, -0.0791, -0.0437,  0.2325,\n",
       "        -0.3938,  0.0709,  0.0626, -0.2429,  0.1077, -0.0746, -0.2022,  0.1336,\n",
       "         0.1935, -0.1687, -0.0950, -0.1161,  0.0398, -0.0478, -0.0924, -0.0515],\n",
       "       grad_fn=<ViewBackward0>)"
      ]
     },
     "execution_count": 41,
     "metadata": {},
     "output_type": "execute_result"
    }
   ],
   "source": [
    "nn_cyk_model.forward(4)"
   ]
  },
  {
   "cell_type": "code",
   "execution_count": 42,
   "id": "e1c428c0-9d93-4611-8b94-005c24369015",
   "metadata": {},
   "outputs": [
    {
     "name": "stdout",
     "output_type": "stream",
     "text": [
      "append record.\n",
      "fill record in t=3\n",
      "fill record in t=3\n",
      "fill record in t=3\n"
     ]
    },
    {
     "data": {
      "text/plain": [
       "tensor([-0.1299, -0.0996, -0.2362,  0.1488,  0.0020, -0.1327, -0.1277,  0.1036,\n",
       "        -0.1071, -0.1316, -0.1947,  0.2407,  0.1613,  0.2023, -0.3371, -0.0404,\n",
       "        -0.0061,  0.1392, -0.3777, -0.2039,  0.0501, -0.0046,  0.1930,  0.1626,\n",
       "        -0.1210, -0.0047, -0.0767, -0.2457,  0.1607, -0.3050,  0.1679, -0.1665,\n",
       "         0.1365,  0.1923,  0.0803, -0.0547,  0.0418, -0.1368,  0.1224, -0.2792,\n",
       "        -0.0638,  0.1716,  0.1986, -0.2399, -0.0911,  0.0649, -0.2683, -0.0314,\n",
       "        -0.0832,  0.0184,  0.1114, -0.2995,  0.1383,  0.0407,  0.0235, -0.2863,\n",
       "         0.1913,  0.1310,  0.1276,  0.1757, -0.0307, -0.0160, -0.0033, -0.0412,\n",
       "         0.0372, -0.2220,  0.0854,  0.1808, -0.1700,  0.1353, -0.0960,  0.1468,\n",
       "        -0.0208,  0.0273, -0.0868,  0.1020,  0.1401,  0.0056, -0.0177,  0.2583,\n",
       "         0.1050,  0.1144,  0.1965,  0.1301,  0.0486,  0.0924, -0.1423,  0.1115,\n",
       "        -0.1009,  0.2186,  0.2671, -0.0692,  0.2253,  0.0067, -0.0978, -0.2496,\n",
       "        -0.0327, -0.0629,  0.0970,  0.1514,  0.3077,  0.0587,  0.1975,  0.0643,\n",
       "        -0.0006, -0.1362, -0.0192, -0.0544,  0.0208, -0.1928, -0.0533,  0.0636,\n",
       "        -0.3271, -0.0340, -0.0549, -0.2375, -0.0058, -0.0776,  0.1310,  0.2259,\n",
       "         0.2038, -0.0775, -0.0799, -0.0427, -0.0356,  0.0137, -0.0261,  0.1886],\n",
       "       grad_fn=<ViewBackward0>)"
      ]
     },
     "execution_count": 42,
     "metadata": {},
     "output_type": "execute_result"
    }
   ],
   "source": [
    "nn_cyk_model.forward(7)"
   ]
  },
  {
   "cell_type": "markdown",
   "id": "49343af5-5035-42ec-93b7-045bd73d54e7",
   "metadata": {},
   "source": [
    "## 8.2 Combine All the models and make predictions"
   ]
  },
  {
   "cell_type": "code",
   "execution_count": 43,
   "id": "c4c271b4-6078-4a69-aacf-eb5721b669a3",
   "metadata": {},
   "outputs": [],
   "source": [
    "simple_full_connection_prediction_model = FCPrediction()"
   ]
  },
  {
   "cell_type": "code",
   "execution_count": 44,
   "id": "1fdc8890-bc59-4a00-b0b6-317d3906167f",
   "metadata": {},
   "outputs": [],
   "source": [
    "syntax_infused_model = \\\n",
    "    SyntaxInfusedModel(sequential_model = LNN_electrode_value_based_prediction_model\\\n",
    "                       ,syntax_model = nn_cyk_model\\\n",
    "                       , combining_model = combine_model\\\n",
    "                       , prediction_model = simple_full_connection_prediction_model)"
   ]
  },
  {
   "cell_type": "code",
   "execution_count": 47,
   "id": "8282c741-b6a9-4329-a4e3-d3bc7cd41d92",
   "metadata": {},
   "outputs": [
    {
     "name": "stdout",
     "output_type": "stream",
     "text": [
      "append record.\n",
      "fill record in t=4\n",
      "fill record in t=4\n",
      "fill record in t=4\n",
      "fill record in t=4\n"
     ]
    },
    {
     "ename": "TypeError",
     "evalue": "expected Tensor as element 0 in argument 0, but got tuple",
     "output_type": "error",
     "traceback": [
      "\u001b[1;31m---------------------------------------------------------------------------\u001b[0m",
      "\u001b[1;31mTypeError\u001b[0m                                 Traceback (most recent call last)",
      "Cell \u001b[1;32mIn[47], line 4\u001b[0m\n\u001b[0;32m      2\u001b[0m input_t \u001b[38;5;241m=\u001b[39m torch\u001b[38;5;241m.\u001b[39mTensor(random_eeg_data[:, t])\n\u001b[0;32m      3\u001b[0m word_t \u001b[38;5;241m=\u001b[39m np\u001b[38;5;241m.\u001b[39mrandom\u001b[38;5;241m.\u001b[39mrandint(\u001b[38;5;241m0\u001b[39m, cnt_words)\n\u001b[1;32m----> 4\u001b[0m \u001b[43msyntax_infused_model\u001b[49m\u001b[38;5;241;43m.\u001b[39;49m\u001b[43mforward\u001b[49m\u001b[43m(\u001b[49m\u001b[43mword_t\u001b[49m\u001b[43m,\u001b[49m\u001b[43m \u001b[49m\u001b[43minput_t\u001b[49m\u001b[43m)\u001b[49m\n",
      "File \u001b[1;32m~\\Desktop\\MainResearchProjects\\eeg-language\\scripts\\applications\\prediction_models\\models\\syntax_infused_model.py:15\u001b[0m, in \u001b[0;36mSyntaxInfusedModel.forward\u001b[1;34m(self, word_t, eeg_data_t)\u001b[0m\n\u001b[0;32m     13\u001b[0m sequential_model_output \u001b[38;5;241m=\u001b[39m \u001b[38;5;28mself\u001b[39m\u001b[38;5;241m.\u001b[39msequential_model\u001b[38;5;241m.\u001b[39mforward(eeg_data_t)\n\u001b[0;32m     14\u001b[0m syntax_model_output \u001b[38;5;241m=\u001b[39m \u001b[38;5;28mself\u001b[39m\u001b[38;5;241m.\u001b[39msyntax_model\u001b[38;5;241m.\u001b[39mforward(word_t)\n\u001b[1;32m---> 15\u001b[0m combined_features \u001b[38;5;241m=\u001b[39m \u001b[38;5;28;43mself\u001b[39;49m\u001b[38;5;241;43m.\u001b[39;49m\u001b[43mcombining_model\u001b[49m\u001b[43m(\u001b[49m\u001b[43msequential_model_output\u001b[49m\u001b[43m,\u001b[49m\u001b[43m\\\u001b[49m\n\u001b[0;32m     16\u001b[0m \u001b[43m                \u001b[49m\u001b[43msyntax_model_output\u001b[49m\u001b[43m)\u001b[49m\u001b[38;5;241m.\u001b[39mforward()\n\u001b[0;32m     17\u001b[0m prediction_model_output \u001b[38;5;241m=\u001b[39m \u001b[38;5;28mself\u001b[39m\u001b[38;5;241m.\u001b[39mprediction_model(combined_features)\n\u001b[0;32m     18\u001b[0m \u001b[38;5;28;01mreturn\u001b[39;00m prediction_model_output\n",
      "File \u001b[1;32m~\\anaconda3\\envs\\sakuyui39\\lib\\site-packages\\torch\\nn\\modules\\module.py:1532\u001b[0m, in \u001b[0;36mModule._wrapped_call_impl\u001b[1;34m(self, *args, **kwargs)\u001b[0m\n\u001b[0;32m   1530\u001b[0m     \u001b[38;5;28;01mreturn\u001b[39;00m \u001b[38;5;28mself\u001b[39m\u001b[38;5;241m.\u001b[39m_compiled_call_impl(\u001b[38;5;241m*\u001b[39margs, \u001b[38;5;241m*\u001b[39m\u001b[38;5;241m*\u001b[39mkwargs)  \u001b[38;5;66;03m# type: ignore[misc]\u001b[39;00m\n\u001b[0;32m   1531\u001b[0m \u001b[38;5;28;01melse\u001b[39;00m:\n\u001b[1;32m-> 1532\u001b[0m     \u001b[38;5;28;01mreturn\u001b[39;00m \u001b[38;5;28mself\u001b[39m\u001b[38;5;241m.\u001b[39m_call_impl(\u001b[38;5;241m*\u001b[39margs, \u001b[38;5;241m*\u001b[39m\u001b[38;5;241m*\u001b[39mkwargs)\n",
      "File \u001b[1;32m~\\anaconda3\\envs\\sakuyui39\\lib\\site-packages\\torch\\nn\\modules\\module.py:1541\u001b[0m, in \u001b[0;36mModule._call_impl\u001b[1;34m(self, *args, **kwargs)\u001b[0m\n\u001b[0;32m   1536\u001b[0m \u001b[38;5;66;03m# If we don't have any hooks, we want to skip the rest of the logic in\u001b[39;00m\n\u001b[0;32m   1537\u001b[0m \u001b[38;5;66;03m# this function, and just call forward.\u001b[39;00m\n\u001b[0;32m   1538\u001b[0m \u001b[38;5;28;01mif\u001b[39;00m \u001b[38;5;129;01mnot\u001b[39;00m (\u001b[38;5;28mself\u001b[39m\u001b[38;5;241m.\u001b[39m_backward_hooks \u001b[38;5;129;01mor\u001b[39;00m \u001b[38;5;28mself\u001b[39m\u001b[38;5;241m.\u001b[39m_backward_pre_hooks \u001b[38;5;129;01mor\u001b[39;00m \u001b[38;5;28mself\u001b[39m\u001b[38;5;241m.\u001b[39m_forward_hooks \u001b[38;5;129;01mor\u001b[39;00m \u001b[38;5;28mself\u001b[39m\u001b[38;5;241m.\u001b[39m_forward_pre_hooks\n\u001b[0;32m   1539\u001b[0m         \u001b[38;5;129;01mor\u001b[39;00m _global_backward_pre_hooks \u001b[38;5;129;01mor\u001b[39;00m _global_backward_hooks\n\u001b[0;32m   1540\u001b[0m         \u001b[38;5;129;01mor\u001b[39;00m _global_forward_hooks \u001b[38;5;129;01mor\u001b[39;00m _global_forward_pre_hooks):\n\u001b[1;32m-> 1541\u001b[0m     \u001b[38;5;28;01mreturn\u001b[39;00m forward_call(\u001b[38;5;241m*\u001b[39margs, \u001b[38;5;241m*\u001b[39m\u001b[38;5;241m*\u001b[39mkwargs)\n\u001b[0;32m   1543\u001b[0m \u001b[38;5;28;01mtry\u001b[39;00m:\n\u001b[0;32m   1544\u001b[0m     result \u001b[38;5;241m=\u001b[39m \u001b[38;5;28;01mNone\u001b[39;00m\n",
      "File \u001b[1;32m~\\Desktop\\MainResearchProjects\\eeg-language\\scripts\\applications\\prediction_models\\models\\syntax_infused_model.py:29\u001b[0m, in \u001b[0;36mSimpleConcatCombing.forward\u001b[1;34m(self, sequential_model_output, syntax_model_output)\u001b[0m\n\u001b[0;32m     27\u001b[0m \u001b[38;5;28;01mif\u001b[39;00m syntax_model_output \u001b[38;5;241m==\u001b[39m \u001b[38;5;28;01mNone\u001b[39;00m:\n\u001b[0;32m     28\u001b[0m     \u001b[38;5;28;01mreturn\u001b[39;00m sequential_model_output\n\u001b[1;32m---> 29\u001b[0m \u001b[38;5;28;01mreturn\u001b[39;00m \u001b[43mtorch\u001b[49m\u001b[38;5;241;43m.\u001b[39;49m\u001b[43mcat\u001b[49m\u001b[43m(\u001b[49m\u001b[43m(\u001b[49m\u001b[43msequential_model_output\u001b[49m\u001b[43m,\u001b[49m\u001b[43m \u001b[49m\u001b[43msyntax_model_output\u001b[49m\u001b[43m)\u001b[49m\u001b[43m,\u001b[49m\u001b[43m \u001b[49m\u001b[43mdim\u001b[49m\u001b[43m \u001b[49m\u001b[38;5;241;43m=\u001b[39;49m\u001b[43m \u001b[49m\u001b[38;5;241;43m1\u001b[39;49m\u001b[43m)\u001b[49m\n",
      "\u001b[1;31mTypeError\u001b[0m: expected Tensor as element 0 in argument 0, but got tuple"
     ]
    }
   ],
   "source": [
    "for t in range(5):\n",
    "    input_t = torch.Tensor(random_eeg_data[:, t])\n",
    "    word_t = np.random.randint(0, cnt_words)\n",
    "    syntax_infused_model.forward(word_t, input_t)"
   ]
  },
  {
   "cell_type": "code",
   "execution_count": null,
   "id": "729fa735-c933-40c3-876a-bf280dadf30c",
   "metadata": {},
   "outputs": [],
   "source": []
  },
  {
   "cell_type": "code",
   "execution_count": 49,
   "id": "ee5ce93b-9589-48eb-9597-cc36563d7f5c",
   "metadata": {},
   "outputs": [
    {
     "ename": "IndexError",
     "evalue": "Dimension out of range (expected to be in range of [-1, 0], but got 1)",
     "output_type": "error",
     "traceback": [
      "\u001b[1;31m---------------------------------------------------------------------------\u001b[0m",
      "\u001b[1;31mIndexError\u001b[0m                                Traceback (most recent call last)",
      "Cell \u001b[1;32mIn[49], line 4\u001b[0m\n\u001b[0;32m      1\u001b[0m tensor1 \u001b[38;5;241m=\u001b[39m torch\u001b[38;5;241m.\u001b[39mtensor([\u001b[38;5;241m1\u001b[39m,\u001b[38;5;241m2\u001b[39m,\u001b[38;5;241m3\u001b[39m])\n\u001b[0;32m      2\u001b[0m tensor2 \u001b[38;5;241m=\u001b[39m torch\u001b[38;5;241m.\u001b[39mtensor([\u001b[38;5;241m6\u001b[39m,\u001b[38;5;241m2\u001b[39m,\u001b[38;5;241m5\u001b[39m])\n\u001b[1;32m----> 4\u001b[0m \u001b[43mtorch\u001b[49m\u001b[38;5;241;43m.\u001b[39;49m\u001b[43mcat\u001b[49m\u001b[43m(\u001b[49m\u001b[43m(\u001b[49m\u001b[43mtensor1\u001b[49m\u001b[43m,\u001b[49m\u001b[43m \u001b[49m\u001b[43mtensor2\u001b[49m\u001b[43m)\u001b[49m\u001b[43m,\u001b[49m\u001b[43m \u001b[49m\u001b[43mdim\u001b[49m\u001b[38;5;241;43m=\u001b[39;49m\u001b[38;5;241;43m1\u001b[39;49m\u001b[43m)\u001b[49m\n",
      "\u001b[1;31mIndexError\u001b[0m: Dimension out of range (expected to be in range of [-1, 0], but got 1)"
     ]
    }
   ],
   "source": [
    "tensor1 = torch.tensor([1,2,3])\n",
    "tensor2 = torch.tensor([6,2,5])\n",
    "\n",
    "torch.cat((tensor1, tensor2), dim=1)"
   ]
  },
  {
   "cell_type": "code",
   "execution_count": null,
   "id": "05b29c32-b033-4354-80a5-10470552b488",
   "metadata": {},
   "outputs": [],
   "source": []
  },
  {
   "cell_type": "code",
   "execution_count": null,
   "id": "1368e8e8-304f-4bbc-ab56-ca0fedb32397",
   "metadata": {},
   "outputs": [],
   "source": []
  },
  {
   "cell_type": "code",
   "execution_count": null,
   "id": "22ec5dc0-98fa-4dee-b90d-b11b37a21fc2",
   "metadata": {},
   "outputs": [],
   "source": []
  },
  {
   "cell_type": "code",
   "execution_count": null,
   "id": "093df591-8a82-45d2-92f2-593ebdd13135",
   "metadata": {},
   "outputs": [],
   "source": [
    "\n"
   ]
  },
  {
   "cell_type": "code",
   "execution_count": null,
   "id": "0afd673d-eb4c-4120-9d36-efe08a9af399",
   "metadata": {},
   "outputs": [],
   "source": []
  },
  {
   "cell_type": "code",
   "execution_count": null,
   "id": "ec9fd736-b6c9-4934-ae7a-07fb54630f9f",
   "metadata": {},
   "outputs": [],
   "source": []
  },
  {
   "cell_type": "code",
   "execution_count": null,
   "id": "b6c968d1-ba5d-4561-b656-18cb0ea756ca",
   "metadata": {},
   "outputs": [],
   "source": []
  },
  {
   "cell_type": "code",
   "execution_count": null,
   "id": "f4402eb9-0654-4663-8cad-bbf420701644",
   "metadata": {},
   "outputs": [],
   "source": []
  },
  {
   "cell_type": "code",
   "execution_count": null,
   "id": "334acd75-777a-415f-866c-19bfae726629",
   "metadata": {},
   "outputs": [],
   "source": []
  },
  {
   "cell_type": "code",
   "execution_count": null,
   "id": "d726bd69-1db7-4f9c-b047-f518f52943ed",
   "metadata": {},
   "outputs": [],
   "source": []
  }
 ],
 "metadata": {
  "kernelspec": {
   "display_name": "Python 3 (ipykernel)",
   "language": "python",
   "name": "python3"
  },
  "language_info": {
   "codemirror_mode": {
    "name": "ipython",
    "version": 3
   },
   "file_extension": ".py",
   "mimetype": "text/x-python",
   "name": "python",
   "nbconvert_exporter": "python",
   "pygments_lexer": "ipython3",
   "version": "3.9.0"
  }
 },
 "nbformat": 4,
 "nbformat_minor": 5
}
