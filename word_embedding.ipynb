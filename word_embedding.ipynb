{
 "cells": [
  {
   "cell_type": "code",
   "execution_count": 62,
   "id": "67f32d5b-dbd6-4b50-a27b-990b507dd180",
   "metadata": {},
   "outputs": [],
   "source": [
    "import torch\n",
    "import torch.nn as nn\n",
    "import torch.nn.functional as F\n",
    "import torch.optim as optim\n",
    "from typing import List\n",
    "import itertools\n",
    "class WordEmbeddingModel(nn.Module):\n",
    "    def __init__(self, vocab_size, embedding_dim = 10, context_size = 2):\n",
    "        super(WordEmbeddingModel, self).__init__()\n",
    "        self.context_size = context_size\n",
    "        self.embedding_dim = embedding_dim\n",
    "        self.vocal_size = vocab_size\n",
    "        self.embeddings = nn.Embedding(vocab_size, embedding_dim)\n",
    "        self.linear1 = nn.Linear(context_size * embedding_dim, 128)\n",
    "        self.linear2 = nn.Linear(128, vocab_size)\n",
    "    \n",
    "    def forward(self, inputs):\n",
    "        embeds = self.embeddings(inputs).view((1, -1))\n",
    "        out = F.relu(self.linear1(embeds))\n",
    "        out = self.linear2(out)\n",
    "        log_probs = F.log_softmax(out, dim=1)\n",
    "        return log_probs\n",
    "    \n",
    "    def train(self, sentences, lr = 0.001):\n",
    "        losses = []\n",
    "        loss_function = nn.NLLLoss()\n",
    "        model = self\n",
    "        optimizer = optim.SGD(model.parameters(), lr=0.001)\n",
    "        sentences = list(itertools.chain.from_iterable(sentences))\n",
    "        ngrams = [\n",
    "            (\n",
    "                [sentences[i - j - 1] for j in range(self.context_size)],\n",
    "                sentences[i]\n",
    "            )\n",
    "            for i in range(self.context_size, len(sentences))\n",
    "        ]\n",
    "        for epoch in range(10):\n",
    "            total_loss = 0\n",
    "            print(\"epoch = %d\" % epoch)\n",
    "            for context, target in ngrams:\n",
    "                # Step 1. Prepare the inputs to be passed to the model (i.e, turn the words\n",
    "                # into integer indices and wrap them in tensors)\n",
    "                context_idxs = torch.tensor(context, dtype=torch.long)\n",
    "\n",
    "                # Step 2. Recall that torch *accumulates* gradients. Before passing in a\n",
    "                # new instance, you need to zero out the gradients from the old\n",
    "                # instance\n",
    "                model.zero_grad()\n",
    "\n",
    "                # Step 3. Run the forward pass, getting log probabilities over next\n",
    "                # words\n",
    "                log_probs = model(context_idxs)\n",
    "\n",
    "                # Step 4. Compute your loss function. (Again, Torch wants the target\n",
    "                # word wrapped in a tensor)\n",
    "\n",
    "                loss = loss_function(log_probs, torch.tensor([target], dtype=torch.long))\n",
    "\n",
    "                # Step 5. Do the backward pass and update the gradient\n",
    "                loss.backward()\n",
    "                optimizer.step()\n",
    "\n",
    "                # Get the Python number from a 1-element Tensor by calling tensor.item()\n",
    "                total_loss += loss.item()\n",
    "            losses.append(total_loss)\n",
    "            print(\"loss = %lf\" % total_loss)\n",
    "  \n",
    "\n",
    "        "
   ]
  },
  {
   "cell_type": "code",
   "execution_count": 63,
   "id": "a51fdfa1-81f6-4b46-8004-c8c184398a4d",
   "metadata": {},
   "outputs": [],
   "source": [
    "sentences = [[1,2,3,4], [2, 4, 5,6,7], [4,3,4,4]]"
   ]
  },
  {
   "cell_type": "code",
   "execution_count": 64,
   "id": "ef4306ea-b062-4168-90c7-5289cc4510af",
   "metadata": {},
   "outputs": [],
   "source": [
    "embeding_model = WordEmbeddingModel(10, 10, 2)"
   ]
  },
  {
   "cell_type": "code",
   "execution_count": 65,
   "id": "640ae33e-8f47-469c-a01d-77d9e55e17ff",
   "metadata": {},
   "outputs": [
    {
     "name": "stdout",
     "output_type": "stream",
     "text": [
      "epoch = 0\n",
      "loss = 26.199548\n",
      "epoch = 1\n",
      "loss = 25.691113\n",
      "epoch = 2\n",
      "loss = 25.197547\n",
      "epoch = 3\n",
      "loss = 24.718529\n",
      "epoch = 4\n",
      "loss = 24.253862\n",
      "epoch = 5\n",
      "loss = 23.803203\n",
      "epoch = 6\n",
      "loss = 23.366371\n",
      "epoch = 7\n",
      "loss = 22.943171\n",
      "epoch = 8\n",
      "loss = 22.533129\n",
      "epoch = 9\n",
      "loss = 22.136443\n"
     ]
    }
   ],
   "source": [
    "embeding_model.train(sentences)"
   ]
  },
  {
   "cell_type": "code",
   "execution_count": 66,
   "id": "ff4d5e63-8087-485c-8b17-14597bf57687",
   "metadata": {},
   "outputs": [
    {
     "data": {
      "text/plain": [
       "tensor([ 2.1557,  0.3412,  0.5148,  0.7387,  0.9112,  0.3007, -0.9163,  0.6143,\n",
       "        -0.6890,  0.2110], grad_fn=<SelectBackward0>)"
      ]
     },
     "execution_count": 66,
     "metadata": {},
     "output_type": "execute_result"
    }
   ],
   "source": [
    "embeding_model.embeddings.weight[9]"
   ]
  },
  {
   "cell_type": "code",
   "execution_count": null,
   "id": "6acbddfe-0520-4e97-b4cd-ccce0843aeb4",
   "metadata": {},
   "outputs": [],
   "source": []
  }
 ],
 "metadata": {
  "kernelspec": {
   "display_name": "Python 3 (ipykernel)",
   "language": "python",
   "name": "python3"
  },
  "language_info": {
   "codemirror_mode": {
    "name": "ipython",
    "version": 3
   },
   "file_extension": ".py",
   "mimetype": "text/x-python",
   "name": "python",
   "nbconvert_exporter": "python",
   "pygments_lexer": "ipython3",
   "version": "3.9.0"
  }
 },
 "nbformat": 4,
 "nbformat_minor": 5
}
